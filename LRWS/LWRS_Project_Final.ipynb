{
 "cells": [
  {
   "cell_type": "code",
   "execution_count": 1,
   "id": "523b2266",
   "metadata": {},
   "outputs": [],
   "source": [
    "import sqlite3\n",
    "import pandas as pd\n",
    "import requests\n",
    "from bs4 import BeautifulSoup\n",
    "import os\n",
    "from selenium import webdriver\n",
    "import time\n",
    "import pickle\n",
    "import numpy as np\n",
    "from datetime import datetime\n",
    "from datetime import timedelta\n",
    "import matplotlib.pyplot as plt\n",
    "import seaborn as sns\n",
    "from sklearn.linear_model import LinearRegression, Lasso, Ridge, ElasticNet\n",
    "from sklearn.model_selection import train_test_split, cross_val_score, KFold, GridSearchCV\n",
    "from sklearn.preprocessing import StandardScaler, PolynomialFeatures\n",
    "from sklearn.metrics import r2_score, mean_squared_error, mean_absolute_error\n",
    "from scipy import stats\n",
    "import statsmodels.api as sm\n",
    "from statsmodels.stats.outliers_influence import variance_inflation_factor\n",
    "  \n"
   ]
  },
  {
   "cell_type": "markdown",
   "id": "12525a88",
   "metadata": {},
   "source": [
    "### Web Scraping and Dataframe Creation"
   ]
  },
  {
   "cell_type": "code",
   "execution_count": 2,
   "id": "f29a9ee7",
   "metadata": {},
   "outputs": [],
   "source": [
    "# Create a SQL connection to SQLite database\n",
    "# Pulling all wildfire occurrence data for CA \n",
    "con = sqlite3.connect(\"Data/FPA_FOD_20210617.sqlite\")\n",
    "ca_fire_data = pd.read_sql_query('SELECT * FROM Fires WHERE STATE=\"CA\"', con)\n",
    "\n",
    "con.close()\n",
    "\n"
   ]
  },
  {
   "cell_type": "code",
   "execution_count": 3,
   "id": "1d08d088",
   "metadata": {},
   "outputs": [
    {
     "data": {
      "text/plain": [
       "(235229, 37)"
      ]
     },
     "execution_count": 3,
     "metadata": {},
     "output_type": "execute_result"
    }
   ],
   "source": [
    "ca_fire_data.head()\n",
    "ca_fire_data.shape\n"
   ]
  },
  {
   "cell_type": "code",
   "execution_count": 4,
   "id": "ada0b2e5",
   "metadata": {},
   "outputs": [
    {
     "data": {
      "text/plain": [
       "Index(['FOD_ID', 'FPA_ID', 'SOURCE_SYSTEM_TYPE', 'SOURCE_SYSTEM',\n",
       "       'NWCG_REPORTING_AGENCY', 'NWCG_REPORTING_UNIT_ID',\n",
       "       'NWCG_REPORTING_UNIT_NAME', 'SOURCE_REPORTING_UNIT',\n",
       "       'SOURCE_REPORTING_UNIT_NAME', 'LOCAL_FIRE_REPORT_ID',\n",
       "       'LOCAL_INCIDENT_ID', 'FIRE_CODE', 'FIRE_NAME',\n",
       "       'ICS_209_PLUS_INCIDENT_JOIN_ID', 'ICS_209_PLUS_COMPLEX_JOIN_ID',\n",
       "       'MTBS_ID', 'MTBS_FIRE_NAME', 'COMPLEX_NAME', 'FIRE_YEAR',\n",
       "       'DISCOVERY_DATE', 'DISCOVERY_DOY', 'DISCOVERY_TIME',\n",
       "       'NWCG_CAUSE_CLASSIFICATION', 'NWCG_GENERAL_CAUSE',\n",
       "       'NWCG_CAUSE_AGE_CATEGORY', 'CONT_DATE', 'CONT_DOY', 'CONT_TIME',\n",
       "       'FIRE_SIZE', 'FIRE_SIZE_CLASS', 'LATITUDE', 'LONGITUDE', 'OWNER_DESCR',\n",
       "       'STATE', 'COUNTY', 'FIPS_CODE', 'FIPS_NAME'],\n",
       "      dtype='object')"
      ]
     },
     "execution_count": 4,
     "metadata": {},
     "output_type": "execute_result"
    }
   ],
   "source": [
    "ca_fire_data.columns\n"
   ]
  },
  {
   "cell_type": "code",
   "execution_count": 5,
   "id": "a3854445",
   "metadata": {},
   "outputs": [],
   "source": [
    "ca_fire_data = ca_fire_data.drop(columns=[\"FOD_ID\", \"FPA_ID\", 'SOURCE_SYSTEM_TYPE', 'SOURCE_SYSTEM', 'NWCG_REPORTING_AGENCY', \n",
    "        'NWCG_REPORTING_UNIT_ID', 'NWCG_REPORTING_UNIT_NAME','SOURCE_REPORTING_UNIT_NAME', 'SOURCE_REPORTING_UNIT','SOURCE_REPORTING_UNIT_NAME', 'LOCAL_FIRE_REPORT_ID',\n",
    "        'LOCAL_INCIDENT_ID', 'FIRE_CODE', 'FIRE_NAME','ICS_209_PLUS_INCIDENT_JOIN_ID', 'ICS_209_PLUS_COMPLEX_JOIN_ID',\n",
    "        'MTBS_ID', 'MTBS_FIRE_NAME', 'COMPLEX_NAME','DISCOVERY_DOY','NWCG_CAUSE_AGE_CATEGORY', 'CONT_DOY', 'FIRE_SIZE_CLASS', 'OWNER_DESCR','STATE','COUNTY','FIPS_CODE','FIPS_NAME'])"
   ]
  },
  {
   "cell_type": "code",
   "execution_count": 6,
   "id": "7974b77e",
   "metadata": {},
   "outputs": [],
   "source": [
    "ca_fire_data['LAT_LONG'] = ca_fire_data['LATITUDE'].astype(str)+','+ca_fire_data['LONGITUDE'].astype(str)\n",
    "\n"
   ]
  },
  {
   "cell_type": "code",
   "execution_count": 7,
   "id": "a156779e",
   "metadata": {},
   "outputs": [],
   "source": [
    "ca_fire_data=ca_fire_data.dropna()\n"
   ]
  },
  {
   "cell_type": "code",
   "execution_count": 8,
   "id": "a0286171",
   "metadata": {},
   "outputs": [
    {
     "data": {
      "text/plain": [
       "(130687, 11)"
      ]
     },
     "execution_count": 8,
     "metadata": {},
     "output_type": "execute_result"
    }
   ],
   "source": [
    "ca_fire_data.shape\n",
    "\n"
   ]
  },
  {
   "cell_type": "code",
   "execution_count": 9,
   "id": "5c0b7480",
   "metadata": {},
   "outputs": [],
   "source": [
    "#Filtering data for last 1 year\n",
    "ca_fire_data=ca_fire_data[ca_fire_data['FIRE_YEAR']>2017].reset_index(drop=True)\n",
    "\n"
   ]
  },
  {
   "cell_type": "code",
   "execution_count": 10,
   "id": "66769362",
   "metadata": {},
   "outputs": [
    {
     "data": {
      "text/plain": [
       "(5566, 11)"
      ]
     },
     "execution_count": 10,
     "metadata": {},
     "output_type": "execute_result"
    }
   ],
   "source": [
    "ca_fire_data.shape\n",
    "\n"
   ]
  },
  {
   "cell_type": "code",
   "execution_count": 11,
   "id": "b258abef",
   "metadata": {},
   "outputs": [
    {
     "data": {
      "text/html": [
       "<div>\n",
       "<style scoped>\n",
       "    .dataframe tbody tr th:only-of-type {\n",
       "        vertical-align: middle;\n",
       "    }\n",
       "\n",
       "    .dataframe tbody tr th {\n",
       "        vertical-align: top;\n",
       "    }\n",
       "\n",
       "    .dataframe thead th {\n",
       "        text-align: right;\n",
       "    }\n",
       "</style>\n",
       "<table border=\"1\" class=\"dataframe\">\n",
       "  <thead>\n",
       "    <tr style=\"text-align: right;\">\n",
       "      <th></th>\n",
       "      <th>FIRE_YEAR</th>\n",
       "      <th>DISCOVERY_DATE</th>\n",
       "      <th>DISCOVERY_TIME</th>\n",
       "      <th>NWCG_CAUSE_CLASSIFICATION</th>\n",
       "      <th>NWCG_GENERAL_CAUSE</th>\n",
       "      <th>CONT_DATE</th>\n",
       "      <th>CONT_TIME</th>\n",
       "      <th>FIRE_SIZE</th>\n",
       "      <th>LATITUDE</th>\n",
       "      <th>LONGITUDE</th>\n",
       "      <th>LAT_LONG</th>\n",
       "    </tr>\n",
       "  </thead>\n",
       "  <tbody>\n",
       "    <tr>\n",
       "      <th>0</th>\n",
       "      <td>2018</td>\n",
       "      <td>7/1/2018 0:00</td>\n",
       "      <td>1400.0</td>\n",
       "      <td>Human</td>\n",
       "      <td>Missing data/not specified/undetermined</td>\n",
       "      <td>7/1/2018 0:00</td>\n",
       "      <td>1800.0</td>\n",
       "      <td>0.07</td>\n",
       "      <td>39.022500</td>\n",
       "      <td>-120.303611</td>\n",
       "      <td>39.0225,-120.3036111</td>\n",
       "    </tr>\n",
       "    <tr>\n",
       "      <th>1</th>\n",
       "      <td>2018</td>\n",
       "      <td>7/13/2018 0:00</td>\n",
       "      <td>755.0</td>\n",
       "      <td>Human</td>\n",
       "      <td>Equipment and vehicle use</td>\n",
       "      <td>7/14/2018 0:00</td>\n",
       "      <td>1800.0</td>\n",
       "      <td>0.50</td>\n",
       "      <td>38.715556</td>\n",
       "      <td>-120.398611</td>\n",
       "      <td>38.71555556,-120.3986111</td>\n",
       "    </tr>\n",
       "    <tr>\n",
       "      <th>2</th>\n",
       "      <td>2018</td>\n",
       "      <td>6/4/2018 0:00</td>\n",
       "      <td>1700.0</td>\n",
       "      <td>Human</td>\n",
       "      <td>Recreation and ceremony</td>\n",
       "      <td>6/4/2018 0:00</td>\n",
       "      <td>1919.0</td>\n",
       "      <td>0.10</td>\n",
       "      <td>38.718333</td>\n",
       "      <td>-120.512778</td>\n",
       "      <td>38.71833333,-120.5127778</td>\n",
       "    </tr>\n",
       "    <tr>\n",
       "      <th>3</th>\n",
       "      <td>2018</td>\n",
       "      <td>6/4/2018 0:00</td>\n",
       "      <td>334.0</td>\n",
       "      <td>Human</td>\n",
       "      <td>Recreation and ceremony</td>\n",
       "      <td>6/4/2018 0:00</td>\n",
       "      <td>1644.0</td>\n",
       "      <td>0.10</td>\n",
       "      <td>39.005833</td>\n",
       "      <td>-120.273889</td>\n",
       "      <td>39.00583333,-120.2738889</td>\n",
       "    </tr>\n",
       "    <tr>\n",
       "      <th>4</th>\n",
       "      <td>2018</td>\n",
       "      <td>1/15/2018 0:00</td>\n",
       "      <td>1530.0</td>\n",
       "      <td>Human</td>\n",
       "      <td>Debris and open burning</td>\n",
       "      <td>1/16/2018 0:00</td>\n",
       "      <td>1500.0</td>\n",
       "      <td>0.25</td>\n",
       "      <td>38.719444</td>\n",
       "      <td>-120.363333</td>\n",
       "      <td>38.71944444,-120.3633333</td>\n",
       "    </tr>\n",
       "  </tbody>\n",
       "</table>\n",
       "</div>"
      ],
      "text/plain": [
       "   FIRE_YEAR  DISCOVERY_DATE  DISCOVERY_TIME NWCG_CAUSE_CLASSIFICATION  \\\n",
       "0       2018   7/1/2018 0:00          1400.0                     Human   \n",
       "1       2018  7/13/2018 0:00           755.0                     Human   \n",
       "2       2018   6/4/2018 0:00          1700.0                     Human   \n",
       "3       2018   6/4/2018 0:00           334.0                     Human   \n",
       "4       2018  1/15/2018 0:00          1530.0                     Human   \n",
       "\n",
       "                        NWCG_GENERAL_CAUSE       CONT_DATE  CONT_TIME  \\\n",
       "0  Missing data/not specified/undetermined   7/1/2018 0:00     1800.0   \n",
       "1                Equipment and vehicle use  7/14/2018 0:00     1800.0   \n",
       "2                  Recreation and ceremony   6/4/2018 0:00     1919.0   \n",
       "3                  Recreation and ceremony   6/4/2018 0:00     1644.0   \n",
       "4                  Debris and open burning  1/16/2018 0:00     1500.0   \n",
       "\n",
       "   FIRE_SIZE   LATITUDE   LONGITUDE                  LAT_LONG  \n",
       "0       0.07  39.022500 -120.303611      39.0225,-120.3036111  \n",
       "1       0.50  38.715556 -120.398611  38.71555556,-120.3986111  \n",
       "2       0.10  38.718333 -120.512778  38.71833333,-120.5127778  \n",
       "3       0.10  39.005833 -120.273889  39.00583333,-120.2738889  \n",
       "4       0.25  38.719444 -120.363333  38.71944444,-120.3633333  "
      ]
     },
     "execution_count": 11,
     "metadata": {},
     "output_type": "execute_result"
    }
   ],
   "source": [
    "ca_fire_data.head()\n"
   ]
  },
  {
   "cell_type": "code",
   "execution_count": 12,
   "id": "379f4ade",
   "metadata": {},
   "outputs": [],
   "source": [
    "#Check if pickle file already exists\n",
    "try:\n",
    "    weather_data = pickle.load(open(\"weatherdata.pkl\", \"rb\"))\n",
    "except (OSError, IOError) as e:\n",
    "    weather_data=[]\n",
    "    weather_data.append(['LAT_LONG', 'WEATHER_DATE', 'TEMP_MAX', 'TEMP_MIN', 'TEMP_AVG', 'DEW', 'HUMIDITY', 'PRECIP', 'WIND_SPEED', 'WIND_DIR', 'SEA_LEVEL_PRESSURE','CLOUD_COVER','VISIBILITY'])\n",
    "\n",
    "\n",
    "    #Web Scraping \n",
    "\n",
    "    BASE_URL = 'https://www.visualcrossing.com/weather/weather-data-services/'\n",
    "    url=\"\"\n",
    "\n",
    "    for idx, row in ca_fire_data.iterrows():\n",
    "        loc=row.LAT_LONG\n",
    "        #Setting date to date-1 to scrape data for the day before Fire Discovery:\n",
    "        date=pd.to_datetime(row['DISCOVERY_DATE']) - timedelta(1)\n",
    "        date=datetime.strftime(date, '%Y-%m-%d')\n",
    "\n",
    "        url=BASE_URL+loc+'/us/'+date+'/'+date\n",
    "\n",
    "        chromedriver = \"/Applications/chromedriver\"\n",
    "        os.environ[\"webdriver.chrome.driver\"] = \\\n",
    "        chromedriver\n",
    "        driver = webdriver.Chrome(chromedriver)\n",
    "        driver.get(url)\n",
    "        time.sleep(3)\n",
    "\n",
    "        driver.find_element('xpath','//*[@id=\"tutorialModel\"]/div/div/div[3]/button').click()\n",
    "        time.sleep(2)\n",
    "\n",
    "        driver.find_element('xpath', '//*[@id=\"errorModal\"]/div/div/div[2]/div[2]/button[1]').click()\n",
    "        time.sleep(2)\n",
    "\n",
    "        driver.find_element('xpath','//*[@id=\"queryApp\"]/div/div[4]/div[4]/div/button[5]').click()\n",
    "        time.sleep(2)\n",
    "\n",
    "        html = driver.page_source\n",
    "        soup = BeautifulSoup(html)\n",
    "\n",
    "        table=soup.find(\"table\",class_=\"table table-striped fs-xs\")\n",
    "\n",
    "        row=[]\n",
    "        for cell in table.tbody.tr.find_all('td'):    \n",
    "            # Find all data for each column\n",
    "            row.append(str(cell.renderContents().strip(),'utf-8'))\n",
    "\n",
    "        row=row[0:5]+row[8:11]+row[17:22]        \n",
    "        weather_data.append(row)\n",
    "        #driver.close()\n",
    "        \n",
    "        "
   ]
  },
  {
   "cell_type": "code",
   "execution_count": 13,
   "id": "5e5eb3de",
   "metadata": {},
   "outputs": [],
   "source": [
    "weather_df = pd.DataFrame(weather_data, columns=weather_data[0])\n",
    "weather_df.drop(index=weather_df.index[0], axis=0, inplace=True)\n",
    "weather_df = weather_df.reset_index(drop=True)\n"
   ]
  },
  {
   "cell_type": "code",
   "execution_count": 14,
   "id": "9f377864",
   "metadata": {},
   "outputs": [],
   "source": [
    "ca_fire_df = ca_fire_data.iloc[:3831,:]\n",
    "\n"
   ]
  },
  {
   "cell_type": "code",
   "execution_count": 15,
   "id": "b7d60424",
   "metadata": {},
   "outputs": [
    {
     "data": {
      "text/plain": [
       "(3830, 13)"
      ]
     },
     "execution_count": 15,
     "metadata": {},
     "output_type": "execute_result"
    }
   ],
   "source": [
    "weather_df.shape\n",
    "\n"
   ]
  },
  {
   "cell_type": "code",
   "execution_count": 16,
   "id": "a548c0a2",
   "metadata": {
    "scrolled": true
   },
   "outputs": [
    {
     "data": {
      "text/html": [
       "<div>\n",
       "<style scoped>\n",
       "    .dataframe tbody tr th:only-of-type {\n",
       "        vertical-align: middle;\n",
       "    }\n",
       "\n",
       "    .dataframe tbody tr th {\n",
       "        vertical-align: top;\n",
       "    }\n",
       "\n",
       "    .dataframe thead th {\n",
       "        text-align: right;\n",
       "    }\n",
       "</style>\n",
       "<table border=\"1\" class=\"dataframe\">\n",
       "  <thead>\n",
       "    <tr style=\"text-align: right;\">\n",
       "      <th></th>\n",
       "      <th>FIRE_YEAR</th>\n",
       "      <th>DISCOVERY_DATE</th>\n",
       "      <th>DISCOVERY_TIME</th>\n",
       "      <th>NWCG_CAUSE_CLASSIFICATION</th>\n",
       "      <th>NWCG_GENERAL_CAUSE</th>\n",
       "      <th>CONT_DATE</th>\n",
       "      <th>CONT_TIME</th>\n",
       "      <th>FIRE_SIZE</th>\n",
       "      <th>LATITUDE</th>\n",
       "      <th>LONGITUDE</th>\n",
       "      <th>LAT_LONG</th>\n",
       "    </tr>\n",
       "  </thead>\n",
       "  <tbody>\n",
       "    <tr>\n",
       "      <th>3826</th>\n",
       "      <td>2018</td>\n",
       "      <td>10/29/2018 0:00</td>\n",
       "      <td>1722.0</td>\n",
       "      <td>Human</td>\n",
       "      <td>Missing data/not specified/undetermined</td>\n",
       "      <td>10/29/2018 0:00</td>\n",
       "      <td>1858.0</td>\n",
       "      <td>0.25</td>\n",
       "      <td>37.083579</td>\n",
       "      <td>-120.437017</td>\n",
       "      <td>37.083579,-120.437017</td>\n",
       "    </tr>\n",
       "    <tr>\n",
       "      <th>3827</th>\n",
       "      <td>2018</td>\n",
       "      <td>10/30/2018 0:00</td>\n",
       "      <td>1227.0</td>\n",
       "      <td>Human</td>\n",
       "      <td>Missing data/not specified/undetermined</td>\n",
       "      <td>10/30/2018 0:00</td>\n",
       "      <td>1244.0</td>\n",
       "      <td>0.25</td>\n",
       "      <td>39.126180</td>\n",
       "      <td>-122.862709</td>\n",
       "      <td>39.12618,-122.862709</td>\n",
       "    </tr>\n",
       "    <tr>\n",
       "      <th>3828</th>\n",
       "      <td>2018</td>\n",
       "      <td>10/31/2018 0:00</td>\n",
       "      <td>21.0</td>\n",
       "      <td>Human</td>\n",
       "      <td>Missing data/not specified/undetermined</td>\n",
       "      <td>10/31/2018 0:00</td>\n",
       "      <td>50.0</td>\n",
       "      <td>1.80</td>\n",
       "      <td>37.517233</td>\n",
       "      <td>-121.240250</td>\n",
       "      <td>37.517233,-121.24025</td>\n",
       "    </tr>\n",
       "    <tr>\n",
       "      <th>3829</th>\n",
       "      <td>2018</td>\n",
       "      <td>10/31/2018 0:00</td>\n",
       "      <td>8.0</td>\n",
       "      <td>Human</td>\n",
       "      <td>Missing data/not specified/undetermined</td>\n",
       "      <td>10/31/2018 0:00</td>\n",
       "      <td>56.0</td>\n",
       "      <td>1.00</td>\n",
       "      <td>33.991816</td>\n",
       "      <td>-117.475417</td>\n",
       "      <td>33.991816,-117.475417</td>\n",
       "    </tr>\n",
       "    <tr>\n",
       "      <th>3830</th>\n",
       "      <td>2018</td>\n",
       "      <td>10/31/2018 0:00</td>\n",
       "      <td>1151.0</td>\n",
       "      <td>Human</td>\n",
       "      <td>Missing data/not specified/undetermined</td>\n",
       "      <td>10/31/2018 0:00</td>\n",
       "      <td>1242.0</td>\n",
       "      <td>0.12</td>\n",
       "      <td>39.145621</td>\n",
       "      <td>-121.043757</td>\n",
       "      <td>39.145621,-121.043757</td>\n",
       "    </tr>\n",
       "  </tbody>\n",
       "</table>\n",
       "</div>"
      ],
      "text/plain": [
       "      FIRE_YEAR   DISCOVERY_DATE  DISCOVERY_TIME NWCG_CAUSE_CLASSIFICATION  \\\n",
       "3826       2018  10/29/2018 0:00          1722.0                     Human   \n",
       "3827       2018  10/30/2018 0:00          1227.0                     Human   \n",
       "3828       2018  10/31/2018 0:00            21.0                     Human   \n",
       "3829       2018  10/31/2018 0:00             8.0                     Human   \n",
       "3830       2018  10/31/2018 0:00          1151.0                     Human   \n",
       "\n",
       "                           NWCG_GENERAL_CAUSE        CONT_DATE  CONT_TIME  \\\n",
       "3826  Missing data/not specified/undetermined  10/29/2018 0:00     1858.0   \n",
       "3827  Missing data/not specified/undetermined  10/30/2018 0:00     1244.0   \n",
       "3828  Missing data/not specified/undetermined  10/31/2018 0:00       50.0   \n",
       "3829  Missing data/not specified/undetermined  10/31/2018 0:00       56.0   \n",
       "3830  Missing data/not specified/undetermined  10/31/2018 0:00     1242.0   \n",
       "\n",
       "      FIRE_SIZE   LATITUDE   LONGITUDE               LAT_LONG  \n",
       "3826       0.25  37.083579 -120.437017  37.083579,-120.437017  \n",
       "3827       0.25  39.126180 -122.862709   39.12618,-122.862709  \n",
       "3828       1.80  37.517233 -121.240250   37.517233,-121.24025  \n",
       "3829       1.00  33.991816 -117.475417  33.991816,-117.475417  \n",
       "3830       0.12  39.145621 -121.043757  39.145621,-121.043757  "
      ]
     },
     "execution_count": 16,
     "metadata": {},
     "output_type": "execute_result"
    }
   ],
   "source": [
    "ca_fire_df.tail()\n",
    "\n"
   ]
  },
  {
   "cell_type": "code",
   "execution_count": 17,
   "id": "b3d48aaa",
   "metadata": {},
   "outputs": [],
   "source": [
    "combined_df = pd.merge(ca_fire_df, weather_df, on='LAT_LONG', how='left')\n",
    "combined_df = combined_df.drop(columns=['FIRE_YEAR','DISCOVERY_TIME', 'NWCG_GENERAL_CAUSE','CONT_TIME'])\n",
    "combined_df = combined_df.drop_duplicates(subset=['LAT_LONG','DISCOVERY_DATE']).reset_index(drop=True)\n"
   ]
  },
  {
   "cell_type": "code",
   "execution_count": 18,
   "id": "d28e8f6e",
   "metadata": {},
   "outputs": [
    {
     "data": {
      "text/html": [
       "<div>\n",
       "<style scoped>\n",
       "    .dataframe tbody tr th:only-of-type {\n",
       "        vertical-align: middle;\n",
       "    }\n",
       "\n",
       "    .dataframe tbody tr th {\n",
       "        vertical-align: top;\n",
       "    }\n",
       "\n",
       "    .dataframe thead th {\n",
       "        text-align: right;\n",
       "    }\n",
       "</style>\n",
       "<table border=\"1\" class=\"dataframe\">\n",
       "  <thead>\n",
       "    <tr style=\"text-align: right;\">\n",
       "      <th></th>\n",
       "      <th>DISCOVERY_DATE</th>\n",
       "      <th>NWCG_CAUSE_CLASSIFICATION</th>\n",
       "      <th>CONT_DATE</th>\n",
       "      <th>FIRE_SIZE</th>\n",
       "      <th>LATITUDE</th>\n",
       "      <th>LONGITUDE</th>\n",
       "      <th>LAT_LONG</th>\n",
       "      <th>WEATHER_DATE</th>\n",
       "      <th>TEMP_MAX</th>\n",
       "      <th>TEMP_MIN</th>\n",
       "      <th>TEMP_AVG</th>\n",
       "      <th>DEW</th>\n",
       "      <th>HUMIDITY</th>\n",
       "      <th>PRECIP</th>\n",
       "      <th>WIND_SPEED</th>\n",
       "      <th>WIND_DIR</th>\n",
       "      <th>SEA_LEVEL_PRESSURE</th>\n",
       "      <th>CLOUD_COVER</th>\n",
       "      <th>VISIBILITY</th>\n",
       "    </tr>\n",
       "  </thead>\n",
       "  <tbody>\n",
       "    <tr>\n",
       "      <th>0</th>\n",
       "      <td>7/1/2018 0:00</td>\n",
       "      <td>Human</td>\n",
       "      <td>7/1/2018 0:00</td>\n",
       "      <td>0.07</td>\n",
       "      <td>39.022500</td>\n",
       "      <td>-120.303611</td>\n",
       "      <td>39.0225,-120.3036111</td>\n",
       "      <td>2018-06-30</td>\n",
       "      <td>78.9</td>\n",
       "      <td>47.8</td>\n",
       "      <td>64.7</td>\n",
       "      <td>37</td>\n",
       "      <td>39.97</td>\n",
       "      <td>0</td>\n",
       "      <td>11.1</td>\n",
       "      <td>187.1</td>\n",
       "      <td>1016.2</td>\n",
       "      <td>0</td>\n",
       "      <td>9.9</td>\n",
       "    </tr>\n",
       "    <tr>\n",
       "      <th>1</th>\n",
       "      <td>7/13/2018 0:00</td>\n",
       "      <td>Human</td>\n",
       "      <td>7/14/2018 0:00</td>\n",
       "      <td>0.50</td>\n",
       "      <td>38.715556</td>\n",
       "      <td>-120.398611</td>\n",
       "      <td>38.71555556,-120.3986111</td>\n",
       "      <td>2018-07-12</td>\n",
       "      <td>89.8</td>\n",
       "      <td>62.8</td>\n",
       "      <td>76.5</td>\n",
       "      <td>46.7</td>\n",
       "      <td>36.68</td>\n",
       "      <td>0</td>\n",
       "      <td>10.9</td>\n",
       "      <td>161.5</td>\n",
       "      <td>1017.5</td>\n",
       "      <td>1.3</td>\n",
       "      <td>9.9</td>\n",
       "    </tr>\n",
       "    <tr>\n",
       "      <th>2</th>\n",
       "      <td>6/4/2018 0:00</td>\n",
       "      <td>Human</td>\n",
       "      <td>6/4/2018 0:00</td>\n",
       "      <td>0.10</td>\n",
       "      <td>38.718333</td>\n",
       "      <td>-120.512778</td>\n",
       "      <td>38.71833333,-120.5127778</td>\n",
       "      <td>2018-06-03</td>\n",
       "      <td>86</td>\n",
       "      <td>64.9</td>\n",
       "      <td>75.8</td>\n",
       "      <td>44.7</td>\n",
       "      <td>34.67</td>\n",
       "      <td>0</td>\n",
       "      <td>8.8</td>\n",
       "      <td>168.8</td>\n",
       "      <td>1016.3</td>\n",
       "      <td>0</td>\n",
       "      <td>9.9</td>\n",
       "    </tr>\n",
       "    <tr>\n",
       "      <th>3</th>\n",
       "      <td>6/4/2018 0:00</td>\n",
       "      <td>Human</td>\n",
       "      <td>6/4/2018 0:00</td>\n",
       "      <td>0.10</td>\n",
       "      <td>39.005833</td>\n",
       "      <td>-120.273889</td>\n",
       "      <td>39.00583333,-120.2738889</td>\n",
       "      <td>2018-06-03</td>\n",
       "      <td>79.4</td>\n",
       "      <td>45.2</td>\n",
       "      <td>63</td>\n",
       "      <td>38.9</td>\n",
       "      <td>45.65</td>\n",
       "      <td>0</td>\n",
       "      <td>12.8</td>\n",
       "      <td>161</td>\n",
       "      <td>1016.2</td>\n",
       "      <td>0</td>\n",
       "      <td>9.9</td>\n",
       "    </tr>\n",
       "    <tr>\n",
       "      <th>4</th>\n",
       "      <td>1/15/2018 0:00</td>\n",
       "      <td>Human</td>\n",
       "      <td>1/16/2018 0:00</td>\n",
       "      <td>0.25</td>\n",
       "      <td>38.719444</td>\n",
       "      <td>-120.363333</td>\n",
       "      <td>38.71944444,-120.3633333</td>\n",
       "      <td>2018-01-14</td>\n",
       "      <td>57.6</td>\n",
       "      <td>38.7</td>\n",
       "      <td>46.3</td>\n",
       "      <td>30.9</td>\n",
       "      <td>55.66</td>\n",
       "      <td>0</td>\n",
       "      <td>5.1</td>\n",
       "      <td>124.7</td>\n",
       "      <td>1027.2</td>\n",
       "      <td>1.9</td>\n",
       "      <td>9.8</td>\n",
       "    </tr>\n",
       "  </tbody>\n",
       "</table>\n",
       "</div>"
      ],
      "text/plain": [
       "   DISCOVERY_DATE NWCG_CAUSE_CLASSIFICATION       CONT_DATE  FIRE_SIZE  \\\n",
       "0   7/1/2018 0:00                     Human   7/1/2018 0:00       0.07   \n",
       "1  7/13/2018 0:00                     Human  7/14/2018 0:00       0.50   \n",
       "2   6/4/2018 0:00                     Human   6/4/2018 0:00       0.10   \n",
       "3   6/4/2018 0:00                     Human   6/4/2018 0:00       0.10   \n",
       "4  1/15/2018 0:00                     Human  1/16/2018 0:00       0.25   \n",
       "\n",
       "    LATITUDE   LONGITUDE                  LAT_LONG WEATHER_DATE TEMP_MAX  \\\n",
       "0  39.022500 -120.303611      39.0225,-120.3036111   2018-06-30     78.9   \n",
       "1  38.715556 -120.398611  38.71555556,-120.3986111   2018-07-12     89.8   \n",
       "2  38.718333 -120.512778  38.71833333,-120.5127778   2018-06-03       86   \n",
       "3  39.005833 -120.273889  39.00583333,-120.2738889   2018-06-03     79.4   \n",
       "4  38.719444 -120.363333  38.71944444,-120.3633333   2018-01-14     57.6   \n",
       "\n",
       "  TEMP_MIN TEMP_AVG   DEW HUMIDITY PRECIP WIND_SPEED WIND_DIR  \\\n",
       "0     47.8     64.7    37    39.97      0       11.1    187.1   \n",
       "1     62.8     76.5  46.7    36.68      0       10.9    161.5   \n",
       "2     64.9     75.8  44.7    34.67      0        8.8    168.8   \n",
       "3     45.2       63  38.9    45.65      0       12.8      161   \n",
       "4     38.7     46.3  30.9    55.66      0        5.1    124.7   \n",
       "\n",
       "  SEA_LEVEL_PRESSURE CLOUD_COVER VISIBILITY  \n",
       "0             1016.2           0        9.9  \n",
       "1             1017.5         1.3        9.9  \n",
       "2             1016.3           0        9.9  \n",
       "3             1016.2           0        9.9  \n",
       "4             1027.2         1.9        9.8  "
      ]
     },
     "execution_count": 18,
     "metadata": {},
     "output_type": "execute_result"
    }
   ],
   "source": [
    "combined_df.head()\n",
    "\n"
   ]
  },
  {
   "cell_type": "code",
   "execution_count": 19,
   "id": "cf700c61",
   "metadata": {},
   "outputs": [],
   "source": [
    "combined_df[['TEMP_MAX','TEMP_MIN','TEMP_AVG','DEW','HUMIDITY','PRECIP','WIND_SPEED','WIND_DIR','SEA_LEVEL_PRESSURE','CLOUD_COVER','VISIBILITY']]=combined_df[['TEMP_MAX','TEMP_MIN','TEMP_AVG','DEW','HUMIDITY','PRECIP','WIND_SPEED','WIND_DIR','SEA_LEVEL_PRESSURE','CLOUD_COVER','VISIBILITY']].apply(pd.to_numeric)\n",
    "combined_df = combined_df.dropna()\n"
   ]
  },
  {
   "cell_type": "code",
   "execution_count": 20,
   "id": "03ba6410",
   "metadata": {},
   "outputs": [
    {
     "name": "stdout",
     "output_type": "stream",
     "text": [
      "<class 'pandas.core.frame.DataFrame'>\n",
      "Int64Index: 3657 entries, 0 to 3811\n",
      "Data columns (total 19 columns):\n",
      " #   Column                     Non-Null Count  Dtype  \n",
      "---  ------                     --------------  -----  \n",
      " 0   DISCOVERY_DATE             3657 non-null   object \n",
      " 1   NWCG_CAUSE_CLASSIFICATION  3657 non-null   object \n",
      " 2   CONT_DATE                  3657 non-null   object \n",
      " 3   FIRE_SIZE                  3657 non-null   float64\n",
      " 4   LATITUDE                   3657 non-null   float64\n",
      " 5   LONGITUDE                  3657 non-null   float64\n",
      " 6   LAT_LONG                   3657 non-null   object \n",
      " 7   WEATHER_DATE               3657 non-null   object \n",
      " 8   TEMP_MAX                   3657 non-null   float64\n",
      " 9   TEMP_MIN                   3657 non-null   float64\n",
      " 10  TEMP_AVG                   3657 non-null   float64\n",
      " 11  DEW                        3657 non-null   float64\n",
      " 12  HUMIDITY                   3657 non-null   float64\n",
      " 13  PRECIP                     3657 non-null   float64\n",
      " 14  WIND_SPEED                 3657 non-null   float64\n",
      " 15  WIND_DIR                   3657 non-null   float64\n",
      " 16  SEA_LEVEL_PRESSURE         3657 non-null   float64\n",
      " 17  CLOUD_COVER                3657 non-null   float64\n",
      " 18  VISIBILITY                 3657 non-null   float64\n",
      "dtypes: float64(14), object(5)\n",
      "memory usage: 571.4+ KB\n"
     ]
    }
   ],
   "source": [
    "combined_df.info()\n",
    "\n"
   ]
  },
  {
   "cell_type": "markdown",
   "id": "27382127",
   "metadata": {},
   "source": [
    "### EDA and Feature Engineering\n",
    "\n"
   ]
  },
  {
   "cell_type": "code",
   "execution_count": 21,
   "id": "8f4d7c73",
   "metadata": {},
   "outputs": [],
   "source": [
    "#Convert Category column to numerical :\n",
    "# Shortcut _ Use pd.Category/factorize\n",
    "\n",
    "for row in combined_df.itertuples():\n",
    "    if row.NWCG_CAUSE_CLASSIFICATION  == 'Human':\n",
    "        combined_df.loc[row.Index, \"CAUSE\"]=1\n",
    "    elif row.NWCG_CAUSE_CLASSIFICATION =='Natural':\n",
    "        combined_df.loc[row.Index, \"CAUSE\"]=2\n",
    "    else:\n",
    "        combined_df.loc[row.Index,\"CAUSE\"]=3\n"
   ]
  },
  {
   "cell_type": "code",
   "execution_count": 22,
   "id": "965be53b",
   "metadata": {},
   "outputs": [],
   "source": [
    "# Drop extra columsn (non-numerical)\n",
    "\n",
    "drop_columns = ['DISCOVERY_DATE', 'NWCG_CAUSE_CLASSIFICATION','CONT_DATE', 'LAT_LONG','WEATHER_DATE']\n",
    "data_df=combined_df.drop(drop_columns, axis=1)\n",
    "\n"
   ]
  },
  {
   "cell_type": "code",
   "execution_count": 23,
   "id": "07594420",
   "metadata": {},
   "outputs": [],
   "source": [
    "# Function for spliting data into train, validation, test data\n",
    "\n",
    "def split_data(all_df):\n",
    "    df_rem, df_test = train_test_split(all_df, test_size=0.20, random_state=3)\n",
    "    df_train, df_val = train_test_split(all_df, test_size=0.25, random_state=8)\n",
    "\n",
    "    return df_train,df_val,df_test\n",
    "\n"
   ]
  },
  {
   "cell_type": "code",
   "execution_count": 24,
   "id": "d040fd04",
   "metadata": {},
   "outputs": [],
   "source": [
    "#Funcations for fitting and scoring train/validation data\n",
    "\n",
    "def train_model(train_df,m):\n",
    "    y_train=train_df[['FIRE_SIZE']]\n",
    "    X_train=train_df.drop('FIRE_SIZE', axis=1)\n",
    "\n",
    "    m.fit(X_train, y_train)\n",
    "    score=m.score(X_train,y_train)\n",
    "    print('Train score:', score)\n",
    "    \n",
    "    return m, score\n",
    "\n",
    "def val_model(val_df,m):\n",
    "    y_val=val_df[['FIRE_SIZE']]\n",
    "    X_val=val_df.drop('FIRE_SIZE', axis=1)\n",
    "    v_score = m.score(X_val,y_val)\n",
    "    print('Val score:', v_score )\n",
    "    return v_score\n",
    "\n"
   ]
  },
  {
   "cell_type": "code",
   "execution_count": 25,
   "id": "04057eba",
   "metadata": {},
   "outputs": [
    {
     "name": "stdout",
     "output_type": "stream",
     "text": [
      "Train score: 0.0066973648088055615\n",
      "Val score: -0.0022044748479403964\n"
     ]
    }
   ],
   "source": [
    "#Initial Model (Baseline):\n",
    "\n",
    "df_train, df_val, df_test = split_data(data_df)\n",
    "model = LinearRegression()\n",
    "\n",
    "fit_model, train_score = train_model(df_train, model)\n",
    "val_score = val_model(df_val, fit_model)\n",
    "\n",
    "r2_scores = [['Model', 'Train_Score', 'Val_Score', 'Test_Score']]\n",
    "r2_scores.append(['Baseline Model', train_score, val_score, '-'])\n",
    "\n"
   ]
  },
  {
   "cell_type": "code",
   "execution_count": 26,
   "id": "26434b9a",
   "metadata": {
    "scrolled": true
   },
   "outputs": [
    {
     "data": {
      "text/html": [
       "<div>\n",
       "<style scoped>\n",
       "    .dataframe tbody tr th:only-of-type {\n",
       "        vertical-align: middle;\n",
       "    }\n",
       "\n",
       "    .dataframe tbody tr th {\n",
       "        vertical-align: top;\n",
       "    }\n",
       "\n",
       "    .dataframe thead th {\n",
       "        text-align: right;\n",
       "    }\n",
       "</style>\n",
       "<table border=\"1\" class=\"dataframe\">\n",
       "  <thead>\n",
       "    <tr style=\"text-align: right;\">\n",
       "      <th></th>\n",
       "      <th>FIRE_SIZE</th>\n",
       "      <th>LATITUDE</th>\n",
       "      <th>LONGITUDE</th>\n",
       "      <th>TEMP_MAX</th>\n",
       "      <th>TEMP_MIN</th>\n",
       "      <th>TEMP_AVG</th>\n",
       "      <th>DEW</th>\n",
       "      <th>HUMIDITY</th>\n",
       "      <th>PRECIP</th>\n",
       "      <th>WIND_SPEED</th>\n",
       "      <th>WIND_DIR</th>\n",
       "      <th>SEA_LEVEL_PRESSURE</th>\n",
       "      <th>CLOUD_COVER</th>\n",
       "      <th>VISIBILITY</th>\n",
       "      <th>CAUSE</th>\n",
       "    </tr>\n",
       "  </thead>\n",
       "  <tbody>\n",
       "    <tr>\n",
       "      <th>count</th>\n",
       "      <td>3657.000000</td>\n",
       "      <td>3657.000000</td>\n",
       "      <td>3657.000000</td>\n",
       "      <td>3657.000000</td>\n",
       "      <td>3657.000000</td>\n",
       "      <td>3657.000000</td>\n",
       "      <td>3657.000000</td>\n",
       "      <td>3657.000000</td>\n",
       "      <td>3657.000000</td>\n",
       "      <td>3657.000000</td>\n",
       "      <td>3657.000000</td>\n",
       "      <td>3657.000000</td>\n",
       "      <td>3657.000000</td>\n",
       "      <td>3657.000000</td>\n",
       "      <td>3657.000000</td>\n",
       "    </tr>\n",
       "    <tr>\n",
       "      <th>mean</th>\n",
       "      <td>388.965980</td>\n",
       "      <td>37.631153</td>\n",
       "      <td>-120.282975</td>\n",
       "      <td>82.307684</td>\n",
       "      <td>54.778944</td>\n",
       "      <td>68.083566</td>\n",
       "      <td>44.592125</td>\n",
       "      <td>49.647640</td>\n",
       "      <td>0.009182</td>\n",
       "      <td>12.381515</td>\n",
       "      <td>206.949193</td>\n",
       "      <td>1014.009653</td>\n",
       "      <td>15.385152</td>\n",
       "      <td>9.364479</td>\n",
       "      <td>1.091058</td>\n",
       "    </tr>\n",
       "    <tr>\n",
       "      <th>std</th>\n",
       "      <td>8795.820434</td>\n",
       "      <td>2.518538</td>\n",
       "      <td>2.104824</td>\n",
       "      <td>13.608680</td>\n",
       "      <td>10.714373</td>\n",
       "      <td>11.710702</td>\n",
       "      <td>10.670136</td>\n",
       "      <td>17.972264</td>\n",
       "      <td>0.062793</td>\n",
       "      <td>4.347321</td>\n",
       "      <td>62.727377</td>\n",
       "      <td>4.454954</td>\n",
       "      <td>22.126061</td>\n",
       "      <td>1.278440</td>\n",
       "      <td>0.293380</td>\n",
       "    </tr>\n",
       "    <tr>\n",
       "      <th>min</th>\n",
       "      <td>0.010000</td>\n",
       "      <td>32.555828</td>\n",
       "      <td>-124.329500</td>\n",
       "      <td>37.500000</td>\n",
       "      <td>5.700000</td>\n",
       "      <td>28.800000</td>\n",
       "      <td>-5.900000</td>\n",
       "      <td>7.430000</td>\n",
       "      <td>0.000000</td>\n",
       "      <td>0.100000</td>\n",
       "      <td>5.000000</td>\n",
       "      <td>979.100000</td>\n",
       "      <td>0.000000</td>\n",
       "      <td>1.200000</td>\n",
       "      <td>1.000000</td>\n",
       "    </tr>\n",
       "    <tr>\n",
       "      <th>25%</th>\n",
       "      <td>0.100000</td>\n",
       "      <td>35.729095</td>\n",
       "      <td>-121.688535</td>\n",
       "      <td>72.400000</td>\n",
       "      <td>48.800000</td>\n",
       "      <td>60.000000</td>\n",
       "      <td>39.700000</td>\n",
       "      <td>36.780000</td>\n",
       "      <td>0.000000</td>\n",
       "      <td>9.300000</td>\n",
       "      <td>160.300000</td>\n",
       "      <td>1011.200000</td>\n",
       "      <td>0.100000</td>\n",
       "      <td>9.300000</td>\n",
       "      <td>1.000000</td>\n",
       "    </tr>\n",
       "    <tr>\n",
       "      <th>50%</th>\n",
       "      <td>0.100000</td>\n",
       "      <td>37.648445</td>\n",
       "      <td>-120.614556</td>\n",
       "      <td>83.300000</td>\n",
       "      <td>55.000000</td>\n",
       "      <td>68.200000</td>\n",
       "      <td>47.100000</td>\n",
       "      <td>47.200000</td>\n",
       "      <td>0.000000</td>\n",
       "      <td>11.800000</td>\n",
       "      <td>202.600000</td>\n",
       "      <td>1013.500000</td>\n",
       "      <td>4.800000</td>\n",
       "      <td>9.900000</td>\n",
       "      <td>1.000000</td>\n",
       "    </tr>\n",
       "    <tr>\n",
       "      <th>75%</th>\n",
       "      <td>1.000000</td>\n",
       "      <td>39.523483</td>\n",
       "      <td>-118.983889</td>\n",
       "      <td>93.000000</td>\n",
       "      <td>61.500000</td>\n",
       "      <td>76.600000</td>\n",
       "      <td>51.800000</td>\n",
       "      <td>61.650000</td>\n",
       "      <td>0.000000</td>\n",
       "      <td>14.900000</td>\n",
       "      <td>254.700000</td>\n",
       "      <td>1016.600000</td>\n",
       "      <td>22.100000</td>\n",
       "      <td>9.900000</td>\n",
       "      <td>1.000000</td>\n",
       "    </tr>\n",
       "    <tr>\n",
       "      <th>max</th>\n",
       "      <td>410203.000000</td>\n",
       "      <td>42.002117</td>\n",
       "      <td>-114.386400</td>\n",
       "      <td>119.000000</td>\n",
       "      <td>97.100000</td>\n",
       "      <td>105.200000</td>\n",
       "      <td>69.400000</td>\n",
       "      <td>98.200000</td>\n",
       "      <td>1.410000</td>\n",
       "      <td>38.500000</td>\n",
       "      <td>332.300000</td>\n",
       "      <td>1030.900000</td>\n",
       "      <td>100.000000</td>\n",
       "      <td>20.100000</td>\n",
       "      <td>3.000000</td>\n",
       "    </tr>\n",
       "  </tbody>\n",
       "</table>\n",
       "</div>"
      ],
      "text/plain": [
       "           FIRE_SIZE     LATITUDE    LONGITUDE     TEMP_MAX     TEMP_MIN  \\\n",
       "count    3657.000000  3657.000000  3657.000000  3657.000000  3657.000000   \n",
       "mean      388.965980    37.631153  -120.282975    82.307684    54.778944   \n",
       "std      8795.820434     2.518538     2.104824    13.608680    10.714373   \n",
       "min         0.010000    32.555828  -124.329500    37.500000     5.700000   \n",
       "25%         0.100000    35.729095  -121.688535    72.400000    48.800000   \n",
       "50%         0.100000    37.648445  -120.614556    83.300000    55.000000   \n",
       "75%         1.000000    39.523483  -118.983889    93.000000    61.500000   \n",
       "max    410203.000000    42.002117  -114.386400   119.000000    97.100000   \n",
       "\n",
       "          TEMP_AVG          DEW     HUMIDITY       PRECIP   WIND_SPEED  \\\n",
       "count  3657.000000  3657.000000  3657.000000  3657.000000  3657.000000   \n",
       "mean     68.083566    44.592125    49.647640     0.009182    12.381515   \n",
       "std      11.710702    10.670136    17.972264     0.062793     4.347321   \n",
       "min      28.800000    -5.900000     7.430000     0.000000     0.100000   \n",
       "25%      60.000000    39.700000    36.780000     0.000000     9.300000   \n",
       "50%      68.200000    47.100000    47.200000     0.000000    11.800000   \n",
       "75%      76.600000    51.800000    61.650000     0.000000    14.900000   \n",
       "max     105.200000    69.400000    98.200000     1.410000    38.500000   \n",
       "\n",
       "          WIND_DIR  SEA_LEVEL_PRESSURE  CLOUD_COVER   VISIBILITY        CAUSE  \n",
       "count  3657.000000         3657.000000  3657.000000  3657.000000  3657.000000  \n",
       "mean    206.949193         1014.009653    15.385152     9.364479     1.091058  \n",
       "std      62.727377            4.454954    22.126061     1.278440     0.293380  \n",
       "min       5.000000          979.100000     0.000000     1.200000     1.000000  \n",
       "25%     160.300000         1011.200000     0.100000     9.300000     1.000000  \n",
       "50%     202.600000         1013.500000     4.800000     9.900000     1.000000  \n",
       "75%     254.700000         1016.600000    22.100000     9.900000     1.000000  \n",
       "max     332.300000         1030.900000   100.000000    20.100000     3.000000  "
      ]
     },
     "execution_count": 26,
     "metadata": {},
     "output_type": "execute_result"
    }
   ],
   "source": [
    "data_df.describe()\n"
   ]
  },
  {
   "cell_type": "code",
   "execution_count": 27,
   "id": "1aaf2224",
   "metadata": {},
   "outputs": [
    {
     "data": {
      "text/html": [
       "<table class=\"simpletable\">\n",
       "<caption>OLS Regression Results</caption>\n",
       "<tr>\n",
       "  <th>Dep. Variable:</th>        <td>FIRE_SIZE</td>    <th>  R-squared:         </th> <td>   0.004</td> \n",
       "</tr>\n",
       "<tr>\n",
       "  <th>Model:</th>                   <td>OLS</td>       <th>  Adj. R-squared:    </th> <td>  -0.000</td> \n",
       "</tr>\n",
       "<tr>\n",
       "  <th>Method:</th>             <td>Least Squares</td>  <th>  F-statistic:       </th> <td>  0.9907</td> \n",
       "</tr>\n",
       "<tr>\n",
       "  <th>Date:</th>             <td>Wed, 10 Aug 2022</td> <th>  Prob (F-statistic):</th>  <td> 0.460</td>  \n",
       "</tr>\n",
       "<tr>\n",
       "  <th>Time:</th>                 <td>15:41:35</td>     <th>  Log-Likelihood:    </th> <td> -38395.</td> \n",
       "</tr>\n",
       "<tr>\n",
       "  <th>No. Observations:</th>      <td>  3657</td>      <th>  AIC:               </th> <td>7.682e+04</td>\n",
       "</tr>\n",
       "<tr>\n",
       "  <th>Df Residuals:</th>          <td>  3642</td>      <th>  BIC:               </th> <td>7.691e+04</td>\n",
       "</tr>\n",
       "<tr>\n",
       "  <th>Df Model:</th>              <td>    14</td>      <th>                     </th>     <td> </td>    \n",
       "</tr>\n",
       "<tr>\n",
       "  <th>Covariance Type:</th>      <td>nonrobust</td>    <th>                     </th>     <td> </td>    \n",
       "</tr>\n",
       "</table>\n",
       "<table class=\"simpletable\">\n",
       "<tr>\n",
       "           <td></td>             <th>coef</th>     <th>std err</th>      <th>t</th>      <th>P>|t|</th>  <th>[0.025</th>    <th>0.975]</th>  \n",
       "</tr>\n",
       "<tr>\n",
       "  <th>const</th>              <td>-3.029e+04</td> <td> 4.45e+04</td> <td>   -0.681</td> <td> 0.496</td> <td>-1.17e+05</td> <td> 5.69e+04</td>\n",
       "</tr>\n",
       "<tr>\n",
       "  <th>LATITUDE</th>           <td> -152.8464</td> <td>  146.685</td> <td>   -1.042</td> <td> 0.297</td> <td> -440.440</td> <td>  134.747</td>\n",
       "</tr>\n",
       "<tr>\n",
       "  <th>LONGITUDE</th>          <td> -362.1123</td> <td>  175.902</td> <td>   -2.059</td> <td> 0.040</td> <td> -706.988</td> <td>  -17.237</td>\n",
       "</tr>\n",
       "<tr>\n",
       "  <th>TEMP_MAX</th>           <td>   29.7761</td> <td>   61.357</td> <td>    0.485</td> <td> 0.627</td> <td>  -90.521</td> <td>  150.073</td>\n",
       "</tr>\n",
       "<tr>\n",
       "  <th>TEMP_MIN</th>           <td>  -18.5941</td> <td>   61.980</td> <td>   -0.300</td> <td> 0.764</td> <td> -140.113</td> <td>  102.925</td>\n",
       "</tr>\n",
       "<tr>\n",
       "  <th>TEMP_AVG</th>           <td>   17.8475</td> <td>  118.482</td> <td>    0.151</td> <td> 0.880</td> <td> -214.451</td> <td>  250.146</td>\n",
       "</tr>\n",
       "<tr>\n",
       "  <th>DEW</th>                <td>  -13.1248</td> <td>   56.464</td> <td>   -0.232</td> <td> 0.816</td> <td> -123.829</td> <td>   97.579</td>\n",
       "</tr>\n",
       "<tr>\n",
       "  <th>HUMIDITY</th>           <td>   -3.8237</td> <td>   37.098</td> <td>   -0.103</td> <td> 0.918</td> <td>  -76.558</td> <td>   68.910</td>\n",
       "</tr>\n",
       "<tr>\n",
       "  <th>PRECIP</th>             <td>  428.6397</td> <td> 2456.670</td> <td>    0.174</td> <td> 0.861</td> <td>-4387.946</td> <td> 5245.226</td>\n",
       "</tr>\n",
       "<tr>\n",
       "  <th>WIND_SPEED</th>         <td>  -13.4792</td> <td>   37.380</td> <td>   -0.361</td> <td> 0.718</td> <td>  -86.767</td> <td>   59.808</td>\n",
       "</tr>\n",
       "<tr>\n",
       "  <th>WIND_DIR</th>           <td>   -1.8674</td> <td>    2.620</td> <td>   -0.713</td> <td> 0.476</td> <td>   -7.005</td> <td>    3.270</td>\n",
       "</tr>\n",
       "<tr>\n",
       "  <th>SEA_LEVEL_PRESSURE</th> <td>   -7.8254</td> <td>   41.228</td> <td>   -0.190</td> <td> 0.849</td> <td>  -88.657</td> <td>   73.006</td>\n",
       "</tr>\n",
       "<tr>\n",
       "  <th>CLOUD_COVER</th>        <td>    2.1035</td> <td>    9.296</td> <td>    0.226</td> <td> 0.821</td> <td>  -16.123</td> <td>   20.330</td>\n",
       "</tr>\n",
       "<tr>\n",
       "  <th>VISIBILITY</th>         <td>  -32.2027</td> <td>  132.957</td> <td>   -0.242</td> <td> 0.809</td> <td> -292.880</td> <td>  228.475</td>\n",
       "</tr>\n",
       "<tr>\n",
       "  <th>CAUSE</th>              <td> -227.6666</td> <td>  557.723</td> <td>   -0.408</td> <td> 0.683</td> <td>-1321.147</td> <td>  865.814</td>\n",
       "</tr>\n",
       "</table>\n",
       "<table class=\"simpletable\">\n",
       "<tr>\n",
       "  <th>Omnibus:</th>       <td>10153.920</td> <th>  Durbin-Watson:     </th>   <td>   2.003</td>   \n",
       "</tr>\n",
       "<tr>\n",
       "  <th>Prob(Omnibus):</th>  <td> 0.000</td>   <th>  Jarque-Bera (JB):  </th> <td>316930510.407</td>\n",
       "</tr>\n",
       "<tr>\n",
       "  <th>Skew:</th>           <td>35.019</td>   <th>  Prob(JB):          </th>   <td>    0.00</td>   \n",
       "</tr>\n",
       "<tr>\n",
       "  <th>Kurtosis:</th>      <td>1443.497</td>  <th>  Cond. No.          </th>   <td>3.22e+05</td>   \n",
       "</tr>\n",
       "</table><br/><br/>Notes:<br/>[1] Standard Errors assume that the covariance matrix of the errors is correctly specified.<br/>[2] The condition number is large, 3.22e+05. This might indicate that there are<br/>strong multicollinearity or other numerical problems."
      ],
      "text/plain": [
       "<class 'statsmodels.iolib.summary.Summary'>\n",
       "\"\"\"\n",
       "                            OLS Regression Results                            \n",
       "==============================================================================\n",
       "Dep. Variable:              FIRE_SIZE   R-squared:                       0.004\n",
       "Model:                            OLS   Adj. R-squared:                 -0.000\n",
       "Method:                 Least Squares   F-statistic:                    0.9907\n",
       "Date:                Wed, 10 Aug 2022   Prob (F-statistic):              0.460\n",
       "Time:                        15:41:35   Log-Likelihood:                -38395.\n",
       "No. Observations:                3657   AIC:                         7.682e+04\n",
       "Df Residuals:                    3642   BIC:                         7.691e+04\n",
       "Df Model:                          14                                         \n",
       "Covariance Type:            nonrobust                                         \n",
       "======================================================================================\n",
       "                         coef    std err          t      P>|t|      [0.025      0.975]\n",
       "--------------------------------------------------------------------------------------\n",
       "const              -3.029e+04   4.45e+04     -0.681      0.496   -1.17e+05    5.69e+04\n",
       "LATITUDE            -152.8464    146.685     -1.042      0.297    -440.440     134.747\n",
       "LONGITUDE           -362.1123    175.902     -2.059      0.040    -706.988     -17.237\n",
       "TEMP_MAX              29.7761     61.357      0.485      0.627     -90.521     150.073\n",
       "TEMP_MIN             -18.5941     61.980     -0.300      0.764    -140.113     102.925\n",
       "TEMP_AVG              17.8475    118.482      0.151      0.880    -214.451     250.146\n",
       "DEW                  -13.1248     56.464     -0.232      0.816    -123.829      97.579\n",
       "HUMIDITY              -3.8237     37.098     -0.103      0.918     -76.558      68.910\n",
       "PRECIP               428.6397   2456.670      0.174      0.861   -4387.946    5245.226\n",
       "WIND_SPEED           -13.4792     37.380     -0.361      0.718     -86.767      59.808\n",
       "WIND_DIR              -1.8674      2.620     -0.713      0.476      -7.005       3.270\n",
       "SEA_LEVEL_PRESSURE    -7.8254     41.228     -0.190      0.849     -88.657      73.006\n",
       "CLOUD_COVER            2.1035      9.296      0.226      0.821     -16.123      20.330\n",
       "VISIBILITY           -32.2027    132.957     -0.242      0.809    -292.880     228.475\n",
       "CAUSE               -227.6666    557.723     -0.408      0.683   -1321.147     865.814\n",
       "==============================================================================\n",
       "Omnibus:                    10153.920   Durbin-Watson:                   2.003\n",
       "Prob(Omnibus):                  0.000   Jarque-Bera (JB):        316930510.407\n",
       "Skew:                          35.019   Prob(JB):                         0.00\n",
       "Kurtosis:                    1443.497   Cond. No.                     3.22e+05\n",
       "==============================================================================\n",
       "\n",
       "Notes:\n",
       "[1] Standard Errors assume that the covariance matrix of the errors is correctly specified.\n",
       "[2] The condition number is large, 3.22e+05. This might indicate that there are\n",
       "strong multicollinearity or other numerical problems.\n",
       "\"\"\""
      ]
     },
     "execution_count": 27,
     "metadata": {},
     "output_type": "execute_result"
    }
   ],
   "source": [
    "y_stats=data_df[['FIRE_SIZE']]\n",
    "X_stats=data_df.drop('FIRE_SIZE', axis=1)\n",
    "\n",
    "X_stats = sm.add_constant(X_stats)\n",
    "stats_model = sm.OLS(y_stats,X_stats).fit()\n",
    "\n",
    "stats_model.summary()\n"
   ]
  },
  {
   "cell_type": "code",
   "execution_count": 28,
   "id": "763d887d",
   "metadata": {},
   "outputs": [
    {
     "data": {
      "image/png": "[encoded data removed]",
      "text/plain": [
       "<Figure size 432x288 with 1 Axes>"
      ]
     },
     "metadata": {
      "needs_background": "light"
     },
     "output_type": "display_data"
    }
   ],
   "source": [
    "model_fitted_y = stats_model.fittedvalues\n",
    "\n",
    "plt = sns.residplot(x=model_fitted_y, y='FIRE_SIZE', data=data_df, lowess=True, \n",
    "                     scatter_kws={'alpha': 0.5}, \n",
    "                     line_kws={'color': 'red', 'lw': 1, 'alpha': 0.8})\n",
    "\n",
    "plt.set_title('Residuals vs Fitted')\n",
    "plt.set_xlabel('Fitted values')\n",
    "plt.set_ylabel('Residuals');\n",
    "\n"
   ]
  },
  {
   "cell_type": "markdown",
   "id": "abb7dd15",
   "metadata": {},
   "source": [
    "#### Residuals are heavily Y-AXIS UNBALANCED. This means that data is not normally distributed and there are outliers. This causes predictions to be too low (hence positive axis imbalance)\n",
    "\n",
    "\n"
   ]
  },
  {
   "cell_type": "code",
   "execution_count": 29,
   "id": "b6c8813e",
   "metadata": {},
   "outputs": [
    {
     "name": "stderr",
     "output_type": "stream",
     "text": [
      "/Users/aanvigoel/opt/anaconda3/lib/python3.9/site-packages/seaborn/distributions.py:2619: FutureWarning: `distplot` is a deprecated function and will be removed in a future version. Please adapt your code to use either `displot` (a figure-level function with similar flexibility) or `histplot` (an axes-level function for histograms).\n",
      "  warnings.warn(msg, FutureWarning)\n"
     ]
    },
    {
     "data": {
      "text/plain": [
       "<AxesSubplot:xlabel='FIRE_SIZE', ylabel='Density'>"
      ]
     },
     "execution_count": 29,
     "metadata": {},
     "output_type": "execute_result"
    },
    {
     "data": {
      "image/png": "[encoded data removed]",
      "text/plain": [
       "<Figure size 432x288 with 1 Axes>"
      ]
     },
     "metadata": {
      "needs_background": "light"
     },
     "output_type": "display_data"
    }
   ],
   "source": [
    "#FIRE_SIZE = The estimate of acres within the final perimeter of the fire.\n",
    "\n",
    "sns.distplot(data_df['FIRE_SIZE'])\n"
   ]
  },
  {
   "cell_type": "code",
   "execution_count": 30,
   "id": "faf06e90",
   "metadata": {},
   "outputs": [
    {
     "data": {
      "text/html": [
       "<div>\n",
       "<style scoped>\n",
       "    .dataframe tbody tr th:only-of-type {\n",
       "        vertical-align: middle;\n",
       "    }\n",
       "\n",
       "    .dataframe tbody tr th {\n",
       "        vertical-align: top;\n",
       "    }\n",
       "\n",
       "    .dataframe thead th {\n",
       "        text-align: right;\n",
       "    }\n",
       "</style>\n",
       "<table border=\"1\" class=\"dataframe\">\n",
       "  <thead>\n",
       "    <tr style=\"text-align: right;\">\n",
       "      <th></th>\n",
       "      <th>FIRE_SIZE</th>\n",
       "      <th>LATITUDE</th>\n",
       "      <th>LONGITUDE</th>\n",
       "      <th>TEMP_MAX</th>\n",
       "      <th>TEMP_MIN</th>\n",
       "      <th>TEMP_AVG</th>\n",
       "      <th>DEW</th>\n",
       "      <th>HUMIDITY</th>\n",
       "      <th>PRECIP</th>\n",
       "      <th>WIND_SPEED</th>\n",
       "      <th>WIND_DIR</th>\n",
       "      <th>SEA_LEVEL_PRESSURE</th>\n",
       "      <th>CLOUD_COVER</th>\n",
       "      <th>VISIBILITY</th>\n",
       "      <th>CAUSE</th>\n",
       "    </tr>\n",
       "  </thead>\n",
       "  <tbody>\n",
       "    <tr>\n",
       "      <th>skew</th>\n",
       "      <td>35.204903</td>\n",
       "      <td>-0.190024</td>\n",
       "      <td>0.43162</td>\n",
       "      <td>-0.298382</td>\n",
       "      <td>-0.251725</td>\n",
       "      <td>-0.160159</td>\n",
       "      <td>-1.206296</td>\n",
       "      <td>0.314177</td>\n",
       "      <td>12.194452</td>\n",
       "      <td>0.856114</td>\n",
       "      <td>-0.012204</td>\n",
       "      <td>0.227697</td>\n",
       "      <td>1.801881</td>\n",
       "      <td>-2.070015</td>\n",
       "      <td>3.037591</td>\n",
       "    </tr>\n",
       "  </tbody>\n",
       "</table>\n",
       "</div>"
      ],
      "text/plain": [
       "      FIRE_SIZE  LATITUDE  LONGITUDE  TEMP_MAX  TEMP_MIN  TEMP_AVG       DEW  \\\n",
       "skew  35.204903 -0.190024    0.43162 -0.298382 -0.251725 -0.160159 -1.206296   \n",
       "\n",
       "      HUMIDITY     PRECIP  WIND_SPEED  WIND_DIR  SEA_LEVEL_PRESSURE  \\\n",
       "skew  0.314177  12.194452    0.856114 -0.012204            0.227697   \n",
       "\n",
       "      CLOUD_COVER  VISIBILITY     CAUSE  \n",
       "skew     1.801881   -2.070015  3.037591  "
      ]
     },
     "execution_count": 30,
     "metadata": {},
     "output_type": "execute_result"
    }
   ],
   "source": [
    "#Understanding data skewness\n",
    "data_df.agg(['skew'])\n",
    "\n"
   ]
  },
  {
   "cell_type": "markdown",
   "id": "d8803bec",
   "metadata": {},
   "source": [
    "### TRANSFORMING DEPENDENT VARIABLE:  FIRE_SIZE"
   ]
  },
  {
   "cell_type": "code",
   "execution_count": 31,
   "id": "c2edc6a0",
   "metadata": {},
   "outputs": [
    {
     "name": "stderr",
     "output_type": "stream",
     "text": [
      "/Users/aanvigoel/opt/anaconda3/lib/python3.9/site-packages/seaborn/distributions.py:2619: FutureWarning: `distplot` is a deprecated function and will be removed in a future version. Please adapt your code to use either `displot` (a figure-level function with similar flexibility) or `kdeplot` (an axes-level function for kernel density plots).\n",
      "  warnings.warn(msg, FutureWarning)\n",
      "/Users/aanvigoel/opt/anaconda3/lib/python3.9/site-packages/seaborn/distributions.py:2619: FutureWarning: `distplot` is a deprecated function and will be removed in a future version. Please adapt your code to use either `displot` (a figure-level function with similar flexibility) or `kdeplot` (an axes-level function for kernel density plots).\n",
      "  warnings.warn(msg, FutureWarning)\n",
      "/Users/aanvigoel/opt/anaconda3/lib/python3.9/site-packages/seaborn/distributions.py:2619: FutureWarning: `distplot` is a deprecated function and will be removed in a future version. Please adapt your code to use either `displot` (a figure-level function with similar flexibility) or `kdeplot` (an axes-level function for kernel density plots).\n",
      "  warnings.warn(msg, FutureWarning)\n",
      "/Users/aanvigoel/opt/anaconda3/lib/python3.9/site-packages/seaborn/distributions.py:2619: FutureWarning: `distplot` is a deprecated function and will be removed in a future version. Please adapt your code to use either `displot` (a figure-level function with similar flexibility) or `kdeplot` (an axes-level function for kernel density plots).\n",
      "  warnings.warn(msg, FutureWarning)\n"
     ]
    },
    {
     "data": {
      "text/plain": [
       "Text(0.5, 1.0, 'Boxcox')"
      ]
     },
     "execution_count": 31,
     "metadata": {},
     "output_type": "execute_result"
    },
    {
     "data": {
      "image/png": "[encoded data removed]",
      "text/plain": [
       "<Figure size 1080x360 with 4 Axes>"
      ]
     },
     "metadata": {
      "needs_background": "light"
     },
     "output_type": "display_data"
    }
   ],
   "source": [
    "import matplotlib.pyplot as plt\n",
    "\n",
    "y_log = np.log(data_df['FIRE_SIZE']+1)\n",
    "y_sqrt = np.sqrt(data_df['FIRE_SIZE']+1)\n",
    "y_boxcox, y_lambda = stats.boxcox(data_df['FIRE_SIZE']+1)\n",
    "\n",
    "fig, ax = plt.subplots(1, 4)\n",
    "fig.set_figheight(5)\n",
    "fig.set_figwidth(15)\n",
    "\n",
    "sns.distplot(data_df['FIRE_SIZE'], hist = False, kde = True,kde_kws = {'shade': True, 'linewidth': 2},\n",
    "            color =\"green\", ax = ax[0]).set_title('Original')\n",
    " \n",
    "sns.distplot(y_log, hist = False, kde = True,kde_kws = {'shade': True, 'linewidth': 2},\n",
    "            color =\"blue\", ax = ax[1]).set_title('Log')\n",
    "\n",
    "sns.distplot(y_sqrt, hist = False, kde = True,kde_kws = {'shade': True, 'linewidth': 2},\n",
    "            color =\"Yellow\", ax = ax[2]).set_title('Sqrt')\n",
    "\n",
    "sns.distplot(y_boxcox, hist = False, kde = True,kde_kws = {'shade': True, 'linewidth': 2},\n",
    "            color =\"Orange\", ax = ax[3]).set_title('Boxcox')\n"
   ]
  },
  {
   "cell_type": "code",
   "execution_count": 32,
   "id": "d33cfdd6",
   "metadata": {},
   "outputs": [],
   "source": [
    "data_df['FIRE_SIZE']=y_boxcox\n",
    "\n"
   ]
  },
  {
   "cell_type": "code",
   "execution_count": 33,
   "id": "50835f18",
   "metadata": {},
   "outputs": [
    {
     "data": {
      "text/html": [
       "<div>\n",
       "<style scoped>\n",
       "    .dataframe tbody tr th:only-of-type {\n",
       "        vertical-align: middle;\n",
       "    }\n",
       "\n",
       "    .dataframe tbody tr th {\n",
       "        vertical-align: top;\n",
       "    }\n",
       "\n",
       "    .dataframe thead th {\n",
       "        text-align: right;\n",
       "    }\n",
       "</style>\n",
       "<table border=\"1\" class=\"dataframe\">\n",
       "  <thead>\n",
       "    <tr style=\"text-align: right;\">\n",
       "      <th></th>\n",
       "      <th>FIRE_SIZE</th>\n",
       "      <th>LATITUDE</th>\n",
       "      <th>LONGITUDE</th>\n",
       "      <th>TEMP_MAX</th>\n",
       "      <th>TEMP_MIN</th>\n",
       "      <th>TEMP_AVG</th>\n",
       "      <th>DEW</th>\n",
       "      <th>HUMIDITY</th>\n",
       "      <th>PRECIP</th>\n",
       "      <th>WIND_SPEED</th>\n",
       "      <th>WIND_DIR</th>\n",
       "      <th>SEA_LEVEL_PRESSURE</th>\n",
       "      <th>CLOUD_COVER</th>\n",
       "      <th>VISIBILITY</th>\n",
       "      <th>CAUSE</th>\n",
       "    </tr>\n",
       "  </thead>\n",
       "  <tbody>\n",
       "    <tr>\n",
       "      <th>skew</th>\n",
       "      <td>0.91412</td>\n",
       "      <td>-0.190024</td>\n",
       "      <td>0.43162</td>\n",
       "      <td>-0.298382</td>\n",
       "      <td>-0.251725</td>\n",
       "      <td>-0.160159</td>\n",
       "      <td>-1.206296</td>\n",
       "      <td>0.314177</td>\n",
       "      <td>12.194452</td>\n",
       "      <td>0.856114</td>\n",
       "      <td>-0.012204</td>\n",
       "      <td>0.227697</td>\n",
       "      <td>1.801881</td>\n",
       "      <td>-2.070015</td>\n",
       "      <td>3.037591</td>\n",
       "    </tr>\n",
       "  </tbody>\n",
       "</table>\n",
       "</div>"
      ],
      "text/plain": [
       "      FIRE_SIZE  LATITUDE  LONGITUDE  TEMP_MAX  TEMP_MIN  TEMP_AVG       DEW  \\\n",
       "skew    0.91412 -0.190024    0.43162 -0.298382 -0.251725 -0.160159 -1.206296   \n",
       "\n",
       "      HUMIDITY     PRECIP  WIND_SPEED  WIND_DIR  SEA_LEVEL_PRESSURE  \\\n",
       "skew  0.314177  12.194452    0.856114 -0.012204            0.227697   \n",
       "\n",
       "      CLOUD_COVER  VISIBILITY     CAUSE  \n",
       "skew     1.801881   -2.070015  3.037591  "
      ]
     },
     "execution_count": 33,
     "metadata": {},
     "output_type": "execute_result"
    }
   ],
   "source": [
    "data_df.agg(['skew'])\n",
    "\n"
   ]
  },
  {
   "cell_type": "code",
   "execution_count": 34,
   "id": "541e890d",
   "metadata": {
    "scrolled": true
   },
   "outputs": [
    {
     "data": {
      "text/html": [
       "<table class=\"simpletable\">\n",
       "<caption>OLS Regression Results</caption>\n",
       "<tr>\n",
       "  <th>Dep. Variable:</th>        <td>FIRE_SIZE</td>    <th>  R-squared:         </th> <td>   0.033</td>\n",
       "</tr>\n",
       "<tr>\n",
       "  <th>Model:</th>                   <td>OLS</td>       <th>  Adj. R-squared:    </th> <td>   0.029</td>\n",
       "</tr>\n",
       "<tr>\n",
       "  <th>Method:</th>             <td>Least Squares</td>  <th>  F-statistic:       </th> <td>   8.816</td>\n",
       "</tr>\n",
       "<tr>\n",
       "  <th>Date:</th>             <td>Wed, 10 Aug 2022</td> <th>  Prob (F-statistic):</th> <td>3.09e-19</td>\n",
       "</tr>\n",
       "<tr>\n",
       "  <th>Time:</th>                 <td>15:41:36</td>     <th>  Log-Likelihood:    </th> <td> -107.38</td>\n",
       "</tr>\n",
       "<tr>\n",
       "  <th>No. Observations:</th>      <td>  3657</td>      <th>  AIC:               </th> <td>   244.8</td>\n",
       "</tr>\n",
       "<tr>\n",
       "  <th>Df Residuals:</th>          <td>  3642</td>      <th>  BIC:               </th> <td>   337.8</td>\n",
       "</tr>\n",
       "<tr>\n",
       "  <th>Df Model:</th>              <td>    14</td>      <th>                     </th>     <td> </td>   \n",
       "</tr>\n",
       "<tr>\n",
       "  <th>Covariance Type:</th>      <td>nonrobust</td>    <th>                     </th>     <td> </td>   \n",
       "</tr>\n",
       "</table>\n",
       "<table class=\"simpletable\">\n",
       "<tr>\n",
       "           <td></td>             <th>coef</th>     <th>std err</th>      <th>t</th>      <th>P>|t|</th>  <th>[0.025</th>    <th>0.975]</th>  \n",
       "</tr>\n",
       "<tr>\n",
       "  <th>const</th>              <td>   -1.2757</td> <td>    1.263</td> <td>   -1.010</td> <td> 0.312</td> <td>   -3.751</td> <td>    1.200</td>\n",
       "</tr>\n",
       "<tr>\n",
       "  <th>LATITUDE</th>           <td>   -0.0140</td> <td>    0.004</td> <td>   -3.371</td> <td> 0.001</td> <td>   -0.022</td> <td>   -0.006</td>\n",
       "</tr>\n",
       "<tr>\n",
       "  <th>LONGITUDE</th>          <td>   -0.0227</td> <td>    0.005</td> <td>   -4.541</td> <td> 0.000</td> <td>   -0.032</td> <td>   -0.013</td>\n",
       "</tr>\n",
       "<tr>\n",
       "  <th>TEMP_MAX</th>           <td>    0.0034</td> <td>    0.002</td> <td>    1.963</td> <td> 0.050</td> <td> 3.63e-06</td> <td>    0.007</td>\n",
       "</tr>\n",
       "<tr>\n",
       "  <th>TEMP_MIN</th>           <td>   -0.0026</td> <td>    0.002</td> <td>   -1.506</td> <td> 0.132</td> <td>   -0.006</td> <td>    0.001</td>\n",
       "</tr>\n",
       "<tr>\n",
       "  <th>TEMP_AVG</th>           <td>   -0.0043</td> <td>    0.003</td> <td>   -1.267</td> <td> 0.205</td> <td>   -0.011</td> <td>    0.002</td>\n",
       "</tr>\n",
       "<tr>\n",
       "  <th>DEW</th>                <td>    0.0059</td> <td>    0.002</td> <td>    3.670</td> <td> 0.000</td> <td>    0.003</td> <td>    0.009</td>\n",
       "</tr>\n",
       "<tr>\n",
       "  <th>HUMIDITY</th>           <td>   -0.0029</td> <td>    0.001</td> <td>   -2.799</td> <td> 0.005</td> <td>   -0.005</td> <td>   -0.001</td>\n",
       "</tr>\n",
       "<tr>\n",
       "  <th>PRECIP</th>             <td>   -0.1531</td> <td>    0.070</td> <td>   -2.196</td> <td> 0.028</td> <td>   -0.290</td> <td>   -0.016</td>\n",
       "</tr>\n",
       "<tr>\n",
       "  <th>WIND_SPEED</th>         <td>    0.0033</td> <td>    0.001</td> <td>    3.082</td> <td> 0.002</td> <td>    0.001</td> <td>    0.005</td>\n",
       "</tr>\n",
       "<tr>\n",
       "  <th>WIND_DIR</th>           <td>-4.272e-05</td> <td> 7.44e-05</td> <td>   -0.574</td> <td> 0.566</td> <td>   -0.000</td> <td>    0.000</td>\n",
       "</tr>\n",
       "<tr>\n",
       "  <th>SEA_LEVEL_PRESSURE</th> <td>   -0.0007</td> <td>    0.001</td> <td>   -0.619</td> <td> 0.536</td> <td>   -0.003</td> <td>    0.002</td>\n",
       "</tr>\n",
       "<tr>\n",
       "  <th>CLOUD_COVER</th>        <td>    0.0003</td> <td>    0.000</td> <td>    1.295</td> <td> 0.196</td> <td>   -0.000</td> <td>    0.001</td>\n",
       "</tr>\n",
       "<tr>\n",
       "  <th>VISIBILITY</th>         <td>    0.0057</td> <td>    0.004</td> <td>    1.513</td> <td> 0.130</td> <td>   -0.002</td> <td>    0.013</td>\n",
       "</tr>\n",
       "<tr>\n",
       "  <th>CAUSE</th>              <td>    0.0140</td> <td>    0.016</td> <td>    0.884</td> <td> 0.377</td> <td>   -0.017</td> <td>    0.045</td>\n",
       "</tr>\n",
       "</table>\n",
       "<table class=\"simpletable\">\n",
       "<tr>\n",
       "  <th>Omnibus:</th>       <td>423.459</td> <th>  Durbin-Watson:     </th> <td>   1.790</td> \n",
       "</tr>\n",
       "<tr>\n",
       "  <th>Prob(Omnibus):</th> <td> 0.000</td>  <th>  Jarque-Bera (JB):  </th> <td> 491.261</td> \n",
       "</tr>\n",
       "<tr>\n",
       "  <th>Skew:</th>          <td> 0.858</td>  <th>  Prob(JB):          </th> <td>2.11e-107</td>\n",
       "</tr>\n",
       "<tr>\n",
       "  <th>Kurtosis:</th>      <td> 2.474</td>  <th>  Cond. No.          </th> <td>3.22e+05</td> \n",
       "</tr>\n",
       "</table><br/><br/>Notes:<br/>[1] Standard Errors assume that the covariance matrix of the errors is correctly specified.<br/>[2] The condition number is large, 3.22e+05. This might indicate that there are<br/>strong multicollinearity or other numerical problems."
      ],
      "text/plain": [
       "<class 'statsmodels.iolib.summary.Summary'>\n",
       "\"\"\"\n",
       "                            OLS Regression Results                            \n",
       "==============================================================================\n",
       "Dep. Variable:              FIRE_SIZE   R-squared:                       0.033\n",
       "Model:                            OLS   Adj. R-squared:                  0.029\n",
       "Method:                 Least Squares   F-statistic:                     8.816\n",
       "Date:                Wed, 10 Aug 2022   Prob (F-statistic):           3.09e-19\n",
       "Time:                        15:41:36   Log-Likelihood:                -107.38\n",
       "No. Observations:                3657   AIC:                             244.8\n",
       "Df Residuals:                    3642   BIC:                             337.8\n",
       "Df Model:                          14                                         \n",
       "Covariance Type:            nonrobust                                         \n",
       "======================================================================================\n",
       "                         coef    std err          t      P>|t|      [0.025      0.975]\n",
       "--------------------------------------------------------------------------------------\n",
       "const                 -1.2757      1.263     -1.010      0.312      -3.751       1.200\n",
       "LATITUDE              -0.0140      0.004     -3.371      0.001      -0.022      -0.006\n",
       "LONGITUDE             -0.0227      0.005     -4.541      0.000      -0.032      -0.013\n",
       "TEMP_MAX               0.0034      0.002      1.963      0.050    3.63e-06       0.007\n",
       "TEMP_MIN              -0.0026      0.002     -1.506      0.132      -0.006       0.001\n",
       "TEMP_AVG              -0.0043      0.003     -1.267      0.205      -0.011       0.002\n",
       "DEW                    0.0059      0.002      3.670      0.000       0.003       0.009\n",
       "HUMIDITY              -0.0029      0.001     -2.799      0.005      -0.005      -0.001\n",
       "PRECIP                -0.1531      0.070     -2.196      0.028      -0.290      -0.016\n",
       "WIND_SPEED             0.0033      0.001      3.082      0.002       0.001       0.005\n",
       "WIND_DIR           -4.272e-05   7.44e-05     -0.574      0.566      -0.000       0.000\n",
       "SEA_LEVEL_PRESSURE    -0.0007      0.001     -0.619      0.536      -0.003       0.002\n",
       "CLOUD_COVER            0.0003      0.000      1.295      0.196      -0.000       0.001\n",
       "VISIBILITY             0.0057      0.004      1.513      0.130      -0.002       0.013\n",
       "CAUSE                  0.0140      0.016      0.884      0.377      -0.017       0.045\n",
       "==============================================================================\n",
       "Omnibus:                      423.459   Durbin-Watson:                   1.790\n",
       "Prob(Omnibus):                  0.000   Jarque-Bera (JB):              491.261\n",
       "Skew:                           0.858   Prob(JB):                    2.11e-107\n",
       "Kurtosis:                       2.474   Cond. No.                     3.22e+05\n",
       "==============================================================================\n",
       "\n",
       "Notes:\n",
       "[1] Standard Errors assume that the covariance matrix of the errors is correctly specified.\n",
       "[2] The condition number is large, 3.22e+05. This might indicate that there are\n",
       "strong multicollinearity or other numerical problems.\n",
       "\"\"\""
      ]
     },
     "execution_count": 34,
     "metadata": {},
     "output_type": "execute_result"
    }
   ],
   "source": [
    "X_stats = sm.add_constant(data_df.drop('FIRE_SIZE',axis=1))\n",
    "stats_model = sm.OLS(data_df['FIRE_SIZE'],X_stats).fit()\n",
    "\n",
    "stats_model.summary()\n",
    "\n"
   ]
  },
  {
   "cell_type": "code",
   "execution_count": 35,
   "id": "0fb0e7f3",
   "metadata": {},
   "outputs": [
    {
     "data": {
      "image/png": "[encoded data removed]",
      "text/plain": [
       "<Figure size 1296x432 with 2 Axes>"
      ]
     },
     "metadata": {
      "needs_background": "light"
     },
     "output_type": "display_data"
    }
   ],
   "source": [
    "#Plotting QQ plots for FIRE SIZE:\n",
    "\n",
    "fig , ax = plt.subplots(1,2, figsize=(18,6))\n",
    "ax1 = sns.histplot(data=data_df, x='FIRE_SIZE', ax=ax[0]);\n",
    "ax2 = stats.probplot(data_df.FIRE_SIZE, dist='norm', plot=plt)\n"
   ]
  },
  {
   "cell_type": "markdown",
   "id": "b703c55f",
   "metadata": {},
   "source": [
    "#### FIRE_SIZE distribution has light tail ditribution"
   ]
  },
  {
   "cell_type": "code",
   "execution_count": 36,
   "id": "750436b0",
   "metadata": {},
   "outputs": [
    {
     "name": "stdout",
     "output_type": "stream",
     "text": [
      "Train score: 0.02618162178332617\n",
      "Val score: 0.042815276855735496\n"
     ]
    }
   ],
   "source": [
    "# Checking accuracy after transform: \n",
    "\n",
    "df_train, df_val, df_test = split_data(data_df)\n",
    "model = LinearRegression()\n",
    "\n",
    "fit_model, train_score = train_model(df_train, model)\n",
    "val_score = val_model(df_val, model)\n",
    "\n",
    "r2_scores.append(['Y Transformed Model', train_score, val_score, '-'])\n",
    "\n"
   ]
  },
  {
   "cell_type": "markdown",
   "id": "190766bb",
   "metadata": {},
   "source": [
    "### SIMPLIFYING DATASET: Drop Features with Multi-Collinearity and Low Significance (P-values)"
   ]
  },
  {
   "cell_type": "code",
   "execution_count": 37,
   "id": "e7385fe3",
   "metadata": {},
   "outputs": [
    {
     "data": {
      "image/png": "[encoded data removed]",
      "text/plain": [
       "<Figure size 720x864 with 2 Axes>"
      ]
     },
     "metadata": {
      "needs_background": "light"
     },
     "output_type": "display_data"
    }
   ],
   "source": [
    "#data_df.corr()\n",
    "plt.figure(figsize=(10,12)) \n",
    "corr=data_df.corr() \n",
    "sns.heatmap(corr, annot=True, cmap=plt.cm.Reds) \n",
    "plt.show()\n"
   ]
  },
  {
   "cell_type": "code",
   "execution_count": 38,
   "id": "dec4bd7b",
   "metadata": {},
   "outputs": [],
   "source": [
    "#Dropping features causing Multi-collinearity:\n",
    "data_df = data_df.drop(columns=['TEMP_AVG', 'TEMP_MIN'], axis=1)\n",
    "\n"
   ]
  },
  {
   "cell_type": "code",
   "execution_count": 39,
   "id": "443e9edd",
   "metadata": {},
   "outputs": [
    {
     "name": "stdout",
     "output_type": "stream",
     "text": [
      "Train score: 0.024159147145892956\n",
      "Val score: 0.02980341784462781\n"
     ]
    }
   ],
   "source": [
    "# Checking accuracy after dropping Multi-collinear features: \n",
    "\n",
    "df_train, df_val, df_test = split_data(data_df)\n",
    "model = LinearRegression()\n",
    "\n",
    "fit_model, train_score = train_model(df_train, model)\n",
    "val_score = val_model(df_val, fit_model)\n",
    "\n",
    "r2_scores.append(['Simplified Model', train_score, val_score, '-'])\n",
    "\n"
   ]
  },
  {
   "cell_type": "markdown",
   "id": "24ecad13",
   "metadata": {},
   "source": [
    "### SCALING FEATURES:"
   ]
  },
  {
   "cell_type": "code",
   "execution_count": 40,
   "id": "2f9307ec",
   "metadata": {},
   "outputs": [],
   "source": [
    "scaler = StandardScaler()\n",
    "df_train, df_test = train_test_split(data_df, test_size=0.2,random_state=14)\n",
    "\n",
    "X_train, y_train = df_train.drop('FIRE_SIZE', axis=1), df_train['FIRE_SIZE']\n",
    "X_test, y_test = df_test.drop('FIRE_SIZE', axis=1), df_test['FIRE_SIZE']\n",
    "\n",
    "X_train = scaler.fit_transform(X_train)\n",
    "X_test = scaler.transform(X_test)\n",
    "\n"
   ]
  },
  {
   "cell_type": "code",
   "execution_count": 41,
   "id": "6fdb49fb",
   "metadata": {},
   "outputs": [
    {
     "name": "stdout",
     "output_type": "stream",
     "text": [
      "Scaled Train score: 0.029191983244985953\n",
      "Scaled Val score: 0.01466605072602456\n"
     ]
    }
   ],
   "source": [
    "model = LinearRegression()\n",
    "\n",
    "X_tr, X_val, y_tr, y_val = train_test_split(X_train, y_train, test_size = 0.2, random_state=3)\n",
    "\n",
    "model.fit(X_tr, y_tr)\n",
    "train_score = model.score(X_tr,y_tr)\n",
    "val_score = model.score(X_val,y_val)\n",
    "\n",
    "print('Scaled Train score:', train_score)\n",
    "print('Scaled Val score:', val_score)\n"
   ]
  },
  {
   "cell_type": "code",
   "execution_count": 42,
   "id": "ff25023c",
   "metadata": {},
   "outputs": [
    {
     "data": {
      "text/plain": [
       "<matplotlib.collections.PathCollection at 0x7fe4133325b0>"
      ]
     },
     "execution_count": 42,
     "metadata": {},
     "output_type": "execute_result"
    },
    {
     "data": {
      "image/png": "[encoded data removed]",
      "text/plain": [
       "<Figure size 432x288 with 1 Axes>"
      ]
     },
     "metadata": {
      "needs_background": "light"
     },
     "output_type": "display_data"
    }
   ],
   "source": [
    "lin_model=LinearRegression()\n",
    "lin_model.fit(X_train, y_train)\n",
    "\n",
    "y_train_pred = lin_model.predict(X_train)\n",
    "plt.scatter(y_train_pred, y_train, alpha=0.3)\n",
    "\n"
   ]
  },
  {
   "cell_type": "code",
   "execution_count": 43,
   "id": "5cf2ef47",
   "metadata": {},
   "outputs": [
    {
     "name": "stdout",
     "output_type": "stream",
     "text": [
      "Scaled MSE: 0.060783248043708014\n",
      "Scaled Test Score: 0.0257003105909015\n"
     ]
    }
   ],
   "source": [
    "y_pred = lin_model.predict(X_test)\n",
    "test_score = r2_score(y_test, y_pred)\n",
    "print(\"Scaled MSE:\", mean_squared_error(y_test, y_pred))\n",
    "print(\"Scaled Test Score:\", test_score)\n",
    "\n",
    "r2_scores.append(['Scaled Model', train_score, val_score, test_score])"
   ]
  },
  {
   "cell_type": "code",
   "execution_count": 44,
   "id": "c339bc34",
   "metadata": {
    "scrolled": true
   },
   "outputs": [
    {
     "data": {
      "text/plain": [
       "Text(0.5, 1.0, 'Residuals')"
      ]
     },
     "execution_count": 44,
     "metadata": {},
     "output_type": "execute_result"
    },
    {
     "data": {
      "image/png": "[encoded data removed]",
      "text/plain": [
       "<Figure size 432x288 with 1 Axes>"
      ]
     },
     "metadata": {
      "needs_background": "light"
     },
     "output_type": "display_data"
    }
   ],
   "source": [
    "lin_residuals = y_train - y_train_pred\n",
    "plt.scatter(y_train_pred, lin_residuals, alpha=0.5)\n",
    "plt.plot([0,1],[0,0])\n",
    "plt.title('Residuals')\n",
    "\n"
   ]
  },
  {
   "cell_type": "code",
   "execution_count": 45,
   "id": "ac22b577",
   "metadata": {},
   "outputs": [
    {
     "data": {
      "text/html": [
       "<div>\n",
       "<style scoped>\n",
       "    .dataframe tbody tr th:only-of-type {\n",
       "        vertical-align: middle;\n",
       "    }\n",
       "\n",
       "    .dataframe tbody tr th {\n",
       "        vertical-align: top;\n",
       "    }\n",
       "\n",
       "    .dataframe thead th {\n",
       "        text-align: right;\n",
       "    }\n",
       "</style>\n",
       "<table border=\"1\" class=\"dataframe\">\n",
       "  <thead>\n",
       "    <tr style=\"text-align: right;\">\n",
       "      <th></th>\n",
       "      <th>Model</th>\n",
       "      <th>Train_Score</th>\n",
       "      <th>Val_Score</th>\n",
       "      <th>Test_Score</th>\n",
       "    </tr>\n",
       "  </thead>\n",
       "  <tbody>\n",
       "    <tr>\n",
       "      <th>1</th>\n",
       "      <td>Baseline Model</td>\n",
       "      <td>0.006697</td>\n",
       "      <td>-0.002204</td>\n",
       "      <td>-</td>\n",
       "    </tr>\n",
       "    <tr>\n",
       "      <th>2</th>\n",
       "      <td>Y Transformed Model</td>\n",
       "      <td>0.026182</td>\n",
       "      <td>0.042815</td>\n",
       "      <td>-</td>\n",
       "    </tr>\n",
       "    <tr>\n",
       "      <th>3</th>\n",
       "      <td>Simplified Model</td>\n",
       "      <td>0.024159</td>\n",
       "      <td>0.029803</td>\n",
       "      <td>-</td>\n",
       "    </tr>\n",
       "    <tr>\n",
       "      <th>4</th>\n",
       "      <td>Scaled Model</td>\n",
       "      <td>0.029192</td>\n",
       "      <td>0.014666</td>\n",
       "      <td>0.0257</td>\n",
       "    </tr>\n",
       "  </tbody>\n",
       "</table>\n",
       "</div>"
      ],
      "text/plain": [
       "                 Model Train_Score Val_Score Test_Score\n",
       "1       Baseline Model    0.006697 -0.002204          -\n",
       "2  Y Transformed Model    0.026182  0.042815          -\n",
       "3     Simplified Model    0.024159  0.029803          -\n",
       "4         Scaled Model    0.029192  0.014666     0.0257"
      ]
     },
     "execution_count": 45,
     "metadata": {},
     "output_type": "execute_result"
    }
   ],
   "source": [
    "pd.DataFrame(r2_scores, columns=r2_scores[0]).drop(0)"
   ]
  },
  {
   "cell_type": "markdown",
   "id": "df4bae73",
   "metadata": {},
   "source": [
    "### REGULARIZATION: "
   ]
  },
  {
   "cell_type": "code",
   "execution_count": 46,
   "id": "d375171c",
   "metadata": {},
   "outputs": [],
   "source": [
    "r2_model_scores=[['Model', 'Test_Score']]"
   ]
  },
  {
   "cell_type": "code",
   "execution_count": 47,
   "id": "154e2d27",
   "metadata": {},
   "outputs": [],
   "source": [
    "kfold = KFold(n_splits = 5, shuffle=True, random_state=0)\n",
    "\n",
    "def regularize_model(model, X, y, cv=5, **params):\n",
    "    \n",
    "    grid_CV = GridSearchCV(model, param_grid = params, cv=kfold, return_train_score=False)\n",
    "    grid_CV.fit(X, y)\n",
    "    \n",
    "    return grid_CV\n",
    "\n"
   ]
  },
  {
   "cell_type": "code",
   "execution_count": 48,
   "id": "99a25608",
   "metadata": {},
   "outputs": [],
   "source": [
    "alphas = [0.0001,0.005,0.001,0.05,0.01,0.1,1,5,10]\n",
    "\n",
    "lasso_model=regularize_model(Lasso(), X_train, y_train, cv=kfold, alpha= alphas)\n",
    "ridge_model=regularize_model(Ridge(), X_train, y_train, cv=kfold, alpha= alphas)\n",
    "elasticnet_model=regularize_model(ElasticNet(), X_train, y_train, cv=kfold, alpha= alphas)\n",
    "\n"
   ]
  },
  {
   "cell_type": "code",
   "execution_count": 49,
   "id": "647813be",
   "metadata": {},
   "outputs": [
    {
     "name": "stdout",
     "output_type": "stream",
     "text": [
      "Lasso Regression MSE: 0.06072946656743875\n",
      "Lasso Regression R2_score: 0.02656237830382502 \n",
      "\n",
      "Ridge Regression MSE: 0.06076802326138162\n",
      "Ridge Regression R2_score: 0.0259443498808265 \n",
      "\n",
      "ElasticNet Regression MSE: 0.06073431926848269\n",
      "ElasticNet Regression R2_score: 0.026484593959090752\n"
     ]
    }
   ],
   "source": [
    "y_pred = lasso_model.predict(X_test)\n",
    "test_score = r2_score(y_test, y_pred)\n",
    "print(\"Lasso Regression MSE:\", mean_squared_error(y_test, y_pred))\n",
    "print(\"Lasso Regression R2_score:\", test_score,\"\\n\")\n",
    "r2_model_scores.append(['Lasso Model',test_score])\n",
    "\n",
    "y_pred = ridge_model.predict(X_test)\n",
    "test_score = r2_score(y_test, y_pred)\n",
    "print(\"Ridge Regression MSE:\", mean_squared_error(y_test, y_pred))\n",
    "print(\"Ridge Regression R2_score:\", test_score,\"\\n\")\n",
    "r2_model_scores.append(['Ridge Model',test_score])\n",
    "\n",
    "y_pred = elasticnet_model.predict(X_test)\n",
    "test_score = r2_score(y_test, y_pred)\n",
    "print(\"ElasticNet Regression MSE:\", mean_squared_error(y_test, y_pred))\n",
    "print(\"ElasticNet Regression R2_score:\", test_score)\n",
    "r2_model_scores.append(['Elastic Net Model',test_score])\n",
    "\n"
   ]
  },
  {
   "cell_type": "markdown",
   "id": "5a661f9c",
   "metadata": {},
   "source": [
    "### Polynomial Transformation"
   ]
  },
  {
   "cell_type": "code",
   "execution_count": 50,
   "id": "b52a41b9",
   "metadata": {},
   "outputs": [
    {
     "name": "stdout",
     "output_type": "stream",
     "text": [
      "Polynomial Test Score: 0.023275559545452795\n"
     ]
    }
   ],
   "source": [
    "#Polynomial Transform \n",
    "poly = PolynomialFeatures()\n",
    "\n",
    "y_train = df_train['FIRE_SIZE']\n",
    "X_train = df_train.drop(['FIRE_SIZE'], axis=1)\n",
    "\n",
    "X_poly_train = poly.fit_transform(X_train)\n",
    "\n",
    "lin_poly = LinearRegression()\n",
    "lin_poly.fit(X_poly_train, y_train) \n",
    "train_score = lin_poly.score(X_poly_train, y_train)\n",
    "\n",
    "y_test = df_test['FIRE_SIZE']\n",
    "X_poly_test = poly.transform(df_test.drop(['FIRE_SIZE'], axis=1))\n",
    "y_pred = lin_poly.predict(X_poly_test)\n",
    "\n",
    "test_score = r2_score(y_test, y_pred)\n",
    "#print(\"Polynomial Train Score:\", train_score)\n",
    "print(\"Polynomial Test Score:\", test_score)\n",
    "r2_scores.append(['Polynomial Model', '-', '-', test_score])"
   ]
  },
  {
   "cell_type": "code",
   "execution_count": 51,
   "id": "3feff14a",
   "metadata": {},
   "outputs": [
    {
     "name": "stderr",
     "output_type": "stream",
     "text": [
      "/Users/aanvigoel/opt/anaconda3/lib/python3.9/site-packages/sklearn/linear_model/_coordinate_descent.py:647: ConvergenceWarning: Objective did not converge. You might want to increase the number of iterations, check the scale of the features or consider increasing regularisation. Duality gap: 6.945e+01, tolerance: 1.483e-02\n",
      "  model = cd_fast.enet_coordinate_descent(\n",
      "/Users/aanvigoel/opt/anaconda3/lib/python3.9/site-packages/sklearn/linear_model/_coordinate_descent.py:647: ConvergenceWarning: Objective did not converge. You might want to increase the number of iterations, check the scale of the features or consider increasing regularisation. Duality gap: 7.083e+01, tolerance: 1.508e-02\n",
      "  model = cd_fast.enet_coordinate_descent(\n",
      "/Users/aanvigoel/opt/anaconda3/lib/python3.9/site-packages/sklearn/linear_model/_coordinate_descent.py:647: ConvergenceWarning: Objective did not converge. You might want to increase the number of iterations, check the scale of the features or consider increasing regularisation. Duality gap: 7.253e+01, tolerance: 1.549e-02\n",
      "  model = cd_fast.enet_coordinate_descent(\n",
      "/Users/aanvigoel/opt/anaconda3/lib/python3.9/site-packages/sklearn/linear_model/_coordinate_descent.py:647: ConvergenceWarning: Objective did not converge. You might want to increase the number of iterations, check the scale of the features or consider increasing regularisation. Duality gap: 6.917e+01, tolerance: 1.484e-02\n",
      "  model = cd_fast.enet_coordinate_descent(\n",
      "/Users/aanvigoel/opt/anaconda3/lib/python3.9/site-packages/sklearn/linear_model/_coordinate_descent.py:647: ConvergenceWarning: Objective did not converge. You might want to increase the number of iterations, check the scale of the features or consider increasing regularisation. Duality gap: 7.241e+01, tolerance: 1.537e-02\n",
      "  model = cd_fast.enet_coordinate_descent(\n",
      "/Users/aanvigoel/opt/anaconda3/lib/python3.9/site-packages/sklearn/linear_model/_coordinate_descent.py:647: ConvergenceWarning: Objective did not converge. You might want to increase the number of iterations, check the scale of the features or consider increasing regularisation. Duality gap: 6.889e+01, tolerance: 1.483e-02\n",
      "  model = cd_fast.enet_coordinate_descent(\n",
      "/Users/aanvigoel/opt/anaconda3/lib/python3.9/site-packages/sklearn/linear_model/_coordinate_descent.py:647: ConvergenceWarning: Objective did not converge. You might want to increase the number of iterations, check the scale of the features or consider increasing regularisation. Duality gap: 7.025e+01, tolerance: 1.508e-02\n",
      "  model = cd_fast.enet_coordinate_descent(\n",
      "/Users/aanvigoel/opt/anaconda3/lib/python3.9/site-packages/sklearn/linear_model/_coordinate_descent.py:647: ConvergenceWarning: Objective did not converge. You might want to increase the number of iterations, check the scale of the features or consider increasing regularisation. Duality gap: 7.222e+01, tolerance: 1.549e-02\n",
      "  model = cd_fast.enet_coordinate_descent(\n",
      "/Users/aanvigoel/opt/anaconda3/lib/python3.9/site-packages/sklearn/linear_model/_coordinate_descent.py:647: ConvergenceWarning: Objective did not converge. You might want to increase the number of iterations, check the scale of the features or consider increasing regularisation. Duality gap: 6.869e+01, tolerance: 1.484e-02\n",
      "  model = cd_fast.enet_coordinate_descent(\n",
      "/Users/aanvigoel/opt/anaconda3/lib/python3.9/site-packages/sklearn/linear_model/_coordinate_descent.py:647: ConvergenceWarning: Objective did not converge. You might want to increase the number of iterations, check the scale of the features or consider increasing regularisation. Duality gap: 7.201e+01, tolerance: 1.537e-02\n",
      "  model = cd_fast.enet_coordinate_descent(\n",
      "/Users/aanvigoel/opt/anaconda3/lib/python3.9/site-packages/sklearn/linear_model/_coordinate_descent.py:647: ConvergenceWarning: Objective did not converge. You might want to increase the number of iterations, check the scale of the features or consider increasing regularisation. Duality gap: 6.953e+01, tolerance: 1.483e-02\n",
      "  model = cd_fast.enet_coordinate_descent(\n",
      "/Users/aanvigoel/opt/anaconda3/lib/python3.9/site-packages/sklearn/linear_model/_coordinate_descent.py:647: ConvergenceWarning: Objective did not converge. You might want to increase the number of iterations, check the scale of the features or consider increasing regularisation. Duality gap: 7.094e+01, tolerance: 1.508e-02\n",
      "  model = cd_fast.enet_coordinate_descent(\n",
      "/Users/aanvigoel/opt/anaconda3/lib/python3.9/site-packages/sklearn/linear_model/_coordinate_descent.py:647: ConvergenceWarning: Objective did not converge. You might want to increase the number of iterations, check the scale of the features or consider increasing regularisation. Duality gap: 7.263e+01, tolerance: 1.549e-02\n",
      "  model = cd_fast.enet_coordinate_descent(\n",
      "/Users/aanvigoel/opt/anaconda3/lib/python3.9/site-packages/sklearn/linear_model/_coordinate_descent.py:647: ConvergenceWarning: Objective did not converge. You might want to increase the number of iterations, check the scale of the features or consider increasing regularisation. Duality gap: 6.920e+01, tolerance: 1.484e-02\n",
      "  model = cd_fast.enet_coordinate_descent(\n",
      "/Users/aanvigoel/opt/anaconda3/lib/python3.9/site-packages/sklearn/linear_model/_coordinate_descent.py:647: ConvergenceWarning: Objective did not converge. You might want to increase the number of iterations, check the scale of the features or consider increasing regularisation. Duality gap: 7.246e+01, tolerance: 1.537e-02\n",
      "  model = cd_fast.enet_coordinate_descent(\n",
      "/Users/aanvigoel/opt/anaconda3/lib/python3.9/site-packages/sklearn/linear_model/_coordinate_descent.py:647: ConvergenceWarning: Objective did not converge. You might want to increase the number of iterations, check the scale of the features or consider increasing regularisation. Duality gap: 5.734e+01, tolerance: 1.483e-02\n",
      "  model = cd_fast.enet_coordinate_descent(\n",
      "/Users/aanvigoel/opt/anaconda3/lib/python3.9/site-packages/sklearn/linear_model/_coordinate_descent.py:647: ConvergenceWarning: Objective did not converge. You might want to increase the number of iterations, check the scale of the features or consider increasing regularisation. Duality gap: 6.249e+01, tolerance: 1.508e-02\n",
      "  model = cd_fast.enet_coordinate_descent(\n",
      "/Users/aanvigoel/opt/anaconda3/lib/python3.9/site-packages/sklearn/linear_model/_coordinate_descent.py:647: ConvergenceWarning: Objective did not converge. You might want to increase the number of iterations, check the scale of the features or consider increasing regularisation. Duality gap: 6.429e+01, tolerance: 1.549e-02\n",
      "  model = cd_fast.enet_coordinate_descent(\n",
      "/Users/aanvigoel/opt/anaconda3/lib/python3.9/site-packages/sklearn/linear_model/_coordinate_descent.py:647: ConvergenceWarning: Objective did not converge. You might want to increase the number of iterations, check the scale of the features or consider increasing regularisation. Duality gap: 6.040e+01, tolerance: 1.484e-02\n",
      "  model = cd_fast.enet_coordinate_descent(\n",
      "/Users/aanvigoel/opt/anaconda3/lib/python3.9/site-packages/sklearn/linear_model/_coordinate_descent.py:647: ConvergenceWarning: Objective did not converge. You might want to increase the number of iterations, check the scale of the features or consider increasing regularisation. Duality gap: 6.332e+01, tolerance: 1.537e-02\n",
      "  model = cd_fast.enet_coordinate_descent(\n",
      "/Users/aanvigoel/opt/anaconda3/lib/python3.9/site-packages/sklearn/linear_model/_coordinate_descent.py:647: ConvergenceWarning: Objective did not converge. You might want to increase the number of iterations, check the scale of the features or consider increasing regularisation. Duality gap: 6.797e+01, tolerance: 1.483e-02\n",
      "  model = cd_fast.enet_coordinate_descent(\n",
      "/Users/aanvigoel/opt/anaconda3/lib/python3.9/site-packages/sklearn/linear_model/_coordinate_descent.py:647: ConvergenceWarning: Objective did not converge. You might want to increase the number of iterations, check the scale of the features or consider increasing regularisation. Duality gap: 6.928e+01, tolerance: 1.508e-02\n",
      "  model = cd_fast.enet_coordinate_descent(\n",
      "/Users/aanvigoel/opt/anaconda3/lib/python3.9/site-packages/sklearn/linear_model/_coordinate_descent.py:647: ConvergenceWarning: Objective did not converge. You might want to increase the number of iterations, check the scale of the features or consider increasing regularisation. Duality gap: 7.143e+01, tolerance: 1.549e-02\n",
      "  model = cd_fast.enet_coordinate_descent(\n",
      "/Users/aanvigoel/opt/anaconda3/lib/python3.9/site-packages/sklearn/linear_model/_coordinate_descent.py:647: ConvergenceWarning: Objective did not converge. You might want to increase the number of iterations, check the scale of the features or consider increasing regularisation. Duality gap: 6.782e+01, tolerance: 1.484e-02\n",
      "  model = cd_fast.enet_coordinate_descent(\n"
     ]
    },
    {
     "name": "stderr",
     "output_type": "stream",
     "text": [
      "/Users/aanvigoel/opt/anaconda3/lib/python3.9/site-packages/sklearn/linear_model/_coordinate_descent.py:647: ConvergenceWarning: Objective did not converge. You might want to increase the number of iterations, check the scale of the features or consider increasing regularisation. Duality gap: 7.112e+01, tolerance: 1.537e-02\n",
      "  model = cd_fast.enet_coordinate_descent(\n",
      "/Users/aanvigoel/opt/anaconda3/lib/python3.9/site-packages/sklearn/linear_model/_coordinate_descent.py:647: ConvergenceWarning: Objective did not converge. You might want to increase the number of iterations, check the scale of the features or consider increasing regularisation. Duality gap: 5.024e+01, tolerance: 1.483e-02\n",
      "  model = cd_fast.enet_coordinate_descent(\n",
      "/Users/aanvigoel/opt/anaconda3/lib/python3.9/site-packages/sklearn/linear_model/_coordinate_descent.py:647: ConvergenceWarning: Objective did not converge. You might want to increase the number of iterations, check the scale of the features or consider increasing regularisation. Duality gap: 6.133e+01, tolerance: 1.508e-02\n",
      "  model = cd_fast.enet_coordinate_descent(\n",
      "/Users/aanvigoel/opt/anaconda3/lib/python3.9/site-packages/sklearn/linear_model/_coordinate_descent.py:647: ConvergenceWarning: Objective did not converge. You might want to increase the number of iterations, check the scale of the features or consider increasing regularisation. Duality gap: 5.820e+01, tolerance: 1.549e-02\n",
      "  model = cd_fast.enet_coordinate_descent(\n",
      "/Users/aanvigoel/opt/anaconda3/lib/python3.9/site-packages/sklearn/linear_model/_coordinate_descent.py:647: ConvergenceWarning: Objective did not converge. You might want to increase the number of iterations, check the scale of the features or consider increasing regularisation. Duality gap: 5.890e+01, tolerance: 1.484e-02\n",
      "  model = cd_fast.enet_coordinate_descent(\n",
      "/Users/aanvigoel/opt/anaconda3/lib/python3.9/site-packages/sklearn/linear_model/_coordinate_descent.py:647: ConvergenceWarning: Objective did not converge. You might want to increase the number of iterations, check the scale of the features or consider increasing regularisation. Duality gap: 5.278e+01, tolerance: 1.537e-02\n",
      "  model = cd_fast.enet_coordinate_descent(\n",
      "/Users/aanvigoel/opt/anaconda3/lib/python3.9/site-packages/sklearn/linear_model/_coordinate_descent.py:647: ConvergenceWarning: Objective did not converge. You might want to increase the number of iterations, check the scale of the features or consider increasing regularisation. Duality gap: 8.448e-01, tolerance: 1.483e-02\n",
      "  model = cd_fast.enet_coordinate_descent(\n",
      "/Users/aanvigoel/opt/anaconda3/lib/python3.9/site-packages/sklearn/linear_model/_coordinate_descent.py:647: ConvergenceWarning: Objective did not converge. You might want to increase the number of iterations, check the scale of the features or consider increasing regularisation. Duality gap: 9.853e-01, tolerance: 1.508e-02\n",
      "  model = cd_fast.enet_coordinate_descent(\n",
      "/Users/aanvigoel/opt/anaconda3/lib/python3.9/site-packages/sklearn/linear_model/_coordinate_descent.py:647: ConvergenceWarning: Objective did not converge. You might want to increase the number of iterations, check the scale of the features or consider increasing regularisation. Duality gap: 1.695e+00, tolerance: 1.549e-02\n",
      "  model = cd_fast.enet_coordinate_descent(\n",
      "/Users/aanvigoel/opt/anaconda3/lib/python3.9/site-packages/sklearn/linear_model/_coordinate_descent.py:647: ConvergenceWarning: Objective did not converge. You might want to increase the number of iterations, check the scale of the features or consider increasing regularisation. Duality gap: 7.233e-02, tolerance: 1.537e-02\n",
      "  model = cd_fast.enet_coordinate_descent(\n",
      "/Users/aanvigoel/opt/anaconda3/lib/python3.9/site-packages/sklearn/linear_model/_ridge.py:157: LinAlgWarning: Ill-conditioned matrix (rcond=5.40372e-18): result may not be accurate.\n",
      "  return linalg.solve(A, Xy, sym_pos=True, overwrite_a=True).T\n",
      "/Users/aanvigoel/opt/anaconda3/lib/python3.9/site-packages/sklearn/linear_model/_ridge.py:157: LinAlgWarning: Ill-conditioned matrix (rcond=5.27592e-18): result may not be accurate.\n",
      "  return linalg.solve(A, Xy, sym_pos=True, overwrite_a=True).T\n",
      "/Users/aanvigoel/opt/anaconda3/lib/python3.9/site-packages/sklearn/linear_model/_ridge.py:157: LinAlgWarning: Ill-conditioned matrix (rcond=5.27994e-18): result may not be accurate.\n",
      "  return linalg.solve(A, Xy, sym_pos=True, overwrite_a=True).T\n",
      "/Users/aanvigoel/opt/anaconda3/lib/python3.9/site-packages/sklearn/linear_model/_ridge.py:157: LinAlgWarning: Ill-conditioned matrix (rcond=5.31582e-18): result may not be accurate.\n",
      "  return linalg.solve(A, Xy, sym_pos=True, overwrite_a=True).T\n",
      "/Users/aanvigoel/opt/anaconda3/lib/python3.9/site-packages/sklearn/linear_model/_ridge.py:157: LinAlgWarning: Ill-conditioned matrix (rcond=5.2852e-18): result may not be accurate.\n",
      "  return linalg.solve(A, Xy, sym_pos=True, overwrite_a=True).T\n",
      "/Users/aanvigoel/opt/anaconda3/lib/python3.9/site-packages/sklearn/linear_model/_ridge.py:157: LinAlgWarning: Ill-conditioned matrix (rcond=5.40372e-17): result may not be accurate.\n",
      "  return linalg.solve(A, Xy, sym_pos=True, overwrite_a=True).T\n",
      "/Users/aanvigoel/opt/anaconda3/lib/python3.9/site-packages/sklearn/linear_model/_ridge.py:157: LinAlgWarning: Ill-conditioned matrix (rcond=5.27592e-17): result may not be accurate.\n",
      "  return linalg.solve(A, Xy, sym_pos=True, overwrite_a=True).T\n",
      "/Users/aanvigoel/opt/anaconda3/lib/python3.9/site-packages/sklearn/linear_model/_ridge.py:157: LinAlgWarning: Ill-conditioned matrix (rcond=5.27994e-17): result may not be accurate.\n",
      "  return linalg.solve(A, Xy, sym_pos=True, overwrite_a=True).T\n",
      "/Users/aanvigoel/opt/anaconda3/lib/python3.9/site-packages/sklearn/linear_model/_ridge.py:157: LinAlgWarning: Ill-conditioned matrix (rcond=5.31582e-17): result may not be accurate.\n",
      "  return linalg.solve(A, Xy, sym_pos=True, overwrite_a=True).T\n",
      "/Users/aanvigoel/opt/anaconda3/lib/python3.9/site-packages/sklearn/linear_model/_ridge.py:157: LinAlgWarning: Ill-conditioned matrix (rcond=5.2852e-17): result may not be accurate.\n",
      "  return linalg.solve(A, Xy, sym_pos=True, overwrite_a=True).T\n",
      "/Users/aanvigoel/opt/anaconda3/lib/python3.9/site-packages/sklearn/linear_model/_coordinate_descent.py:647: ConvergenceWarning: Objective did not converge. You might want to increase the number of iterations, check the scale of the features or consider increasing regularisation. Duality gap: 6.942e+01, tolerance: 1.483e-02\n",
      "  model = cd_fast.enet_coordinate_descent(\n",
      "/Users/aanvigoel/opt/anaconda3/lib/python3.9/site-packages/sklearn/linear_model/_coordinate_descent.py:647: ConvergenceWarning: Objective did not converge. You might want to increase the number of iterations, check the scale of the features or consider increasing regularisation. Duality gap: 7.077e+01, tolerance: 1.508e-02\n",
      "  model = cd_fast.enet_coordinate_descent(\n",
      "/Users/aanvigoel/opt/anaconda3/lib/python3.9/site-packages/sklearn/linear_model/_coordinate_descent.py:647: ConvergenceWarning: Objective did not converge. You might want to increase the number of iterations, check the scale of the features or consider increasing regularisation. Duality gap: 7.250e+01, tolerance: 1.549e-02\n",
      "  model = cd_fast.enet_coordinate_descent(\n",
      "/Users/aanvigoel/opt/anaconda3/lib/python3.9/site-packages/sklearn/linear_model/_coordinate_descent.py:647: ConvergenceWarning: Objective did not converge. You might want to increase the number of iterations, check the scale of the features or consider increasing regularisation. Duality gap: 6.913e+01, tolerance: 1.484e-02\n",
      "  model = cd_fast.enet_coordinate_descent(\n",
      "/Users/aanvigoel/opt/anaconda3/lib/python3.9/site-packages/sklearn/linear_model/_coordinate_descent.py:647: ConvergenceWarning: Objective did not converge. You might want to increase the number of iterations, check the scale of the features or consider increasing regularisation. Duality gap: 7.236e+01, tolerance: 1.537e-02\n",
      "  model = cd_fast.enet_coordinate_descent(\n",
      "/Users/aanvigoel/opt/anaconda3/lib/python3.9/site-packages/sklearn/linear_model/_coordinate_descent.py:647: ConvergenceWarning: Objective did not converge. You might want to increase the number of iterations, check the scale of the features or consider increasing regularisation. Duality gap: 6.936e+01, tolerance: 1.483e-02\n",
      "  model = cd_fast.enet_coordinate_descent(\n",
      "/Users/aanvigoel/opt/anaconda3/lib/python3.9/site-packages/sklearn/linear_model/_coordinate_descent.py:647: ConvergenceWarning: Objective did not converge. You might want to increase the number of iterations, check the scale of the features or consider increasing regularisation. Duality gap: 7.074e+01, tolerance: 1.508e-02\n",
      "  model = cd_fast.enet_coordinate_descent(\n"
     ]
    },
    {
     "name": "stderr",
     "output_type": "stream",
     "text": [
      "/Users/aanvigoel/opt/anaconda3/lib/python3.9/site-packages/sklearn/linear_model/_coordinate_descent.py:647: ConvergenceWarning: Objective did not converge. You might want to increase the number of iterations, check the scale of the features or consider increasing regularisation. Duality gap: 7.248e+01, tolerance: 1.549e-02\n",
      "  model = cd_fast.enet_coordinate_descent(\n",
      "/Users/aanvigoel/opt/anaconda3/lib/python3.9/site-packages/sklearn/linear_model/_coordinate_descent.py:647: ConvergenceWarning: Objective did not converge. You might want to increase the number of iterations, check the scale of the features or consider increasing regularisation. Duality gap: 6.911e+01, tolerance: 1.484e-02\n",
      "  model = cd_fast.enet_coordinate_descent(\n",
      "/Users/aanvigoel/opt/anaconda3/lib/python3.9/site-packages/sklearn/linear_model/_coordinate_descent.py:647: ConvergenceWarning: Objective did not converge. You might want to increase the number of iterations, check the scale of the features or consider increasing regularisation. Duality gap: 7.240e+01, tolerance: 1.537e-02\n",
      "  model = cd_fast.enet_coordinate_descent(\n",
      "/Users/aanvigoel/opt/anaconda3/lib/python3.9/site-packages/sklearn/linear_model/_coordinate_descent.py:647: ConvergenceWarning: Objective did not converge. You might want to increase the number of iterations, check the scale of the features or consider increasing regularisation. Duality gap: 6.953e+01, tolerance: 1.483e-02\n",
      "  model = cd_fast.enet_coordinate_descent(\n",
      "/Users/aanvigoel/opt/anaconda3/lib/python3.9/site-packages/sklearn/linear_model/_coordinate_descent.py:647: ConvergenceWarning: Objective did not converge. You might want to increase the number of iterations, check the scale of the features or consider increasing regularisation. Duality gap: 7.094e+01, tolerance: 1.508e-02\n",
      "  model = cd_fast.enet_coordinate_descent(\n",
      "/Users/aanvigoel/opt/anaconda3/lib/python3.9/site-packages/sklearn/linear_model/_coordinate_descent.py:647: ConvergenceWarning: Objective did not converge. You might want to increase the number of iterations, check the scale of the features or consider increasing regularisation. Duality gap: 7.260e+01, tolerance: 1.549e-02\n",
      "  model = cd_fast.enet_coordinate_descent(\n",
      "/Users/aanvigoel/opt/anaconda3/lib/python3.9/site-packages/sklearn/linear_model/_coordinate_descent.py:647: ConvergenceWarning: Objective did not converge. You might want to increase the number of iterations, check the scale of the features or consider increasing regularisation. Duality gap: 6.923e+01, tolerance: 1.484e-02\n",
      "  model = cd_fast.enet_coordinate_descent(\n",
      "/Users/aanvigoel/opt/anaconda3/lib/python3.9/site-packages/sklearn/linear_model/_coordinate_descent.py:647: ConvergenceWarning: Objective did not converge. You might want to increase the number of iterations, check the scale of the features or consider increasing regularisation. Duality gap: 7.246e+01, tolerance: 1.537e-02\n",
      "  model = cd_fast.enet_coordinate_descent(\n",
      "/Users/aanvigoel/opt/anaconda3/lib/python3.9/site-packages/sklearn/linear_model/_coordinate_descent.py:647: ConvergenceWarning: Objective did not converge. You might want to increase the number of iterations, check the scale of the features or consider increasing regularisation. Duality gap: 6.400e+01, tolerance: 1.483e-02\n",
      "  model = cd_fast.enet_coordinate_descent(\n",
      "/Users/aanvigoel/opt/anaconda3/lib/python3.9/site-packages/sklearn/linear_model/_coordinate_descent.py:647: ConvergenceWarning: Objective did not converge. You might want to increase the number of iterations, check the scale of the features or consider increasing regularisation. Duality gap: 6.597e+01, tolerance: 1.508e-02\n",
      "  model = cd_fast.enet_coordinate_descent(\n",
      "/Users/aanvigoel/opt/anaconda3/lib/python3.9/site-packages/sklearn/linear_model/_coordinate_descent.py:647: ConvergenceWarning: Objective did not converge. You might want to increase the number of iterations, check the scale of the features or consider increasing regularisation. Duality gap: 6.887e+01, tolerance: 1.549e-02\n",
      "  model = cd_fast.enet_coordinate_descent(\n",
      "/Users/aanvigoel/opt/anaconda3/lib/python3.9/site-packages/sklearn/linear_model/_coordinate_descent.py:647: ConvergenceWarning: Objective did not converge. You might want to increase the number of iterations, check the scale of the features or consider increasing regularisation. Duality gap: 6.496e+01, tolerance: 1.484e-02\n",
      "  model = cd_fast.enet_coordinate_descent(\n",
      "/Users/aanvigoel/opt/anaconda3/lib/python3.9/site-packages/sklearn/linear_model/_coordinate_descent.py:647: ConvergenceWarning: Objective did not converge. You might want to increase the number of iterations, check the scale of the features or consider increasing regularisation. Duality gap: 6.834e+01, tolerance: 1.537e-02\n",
      "  model = cd_fast.enet_coordinate_descent(\n",
      "/Users/aanvigoel/opt/anaconda3/lib/python3.9/site-packages/sklearn/linear_model/_coordinate_descent.py:647: ConvergenceWarning: Objective did not converge. You might want to increase the number of iterations, check the scale of the features or consider increasing regularisation. Duality gap: 6.889e+01, tolerance: 1.483e-02\n",
      "  model = cd_fast.enet_coordinate_descent(\n",
      "/Users/aanvigoel/opt/anaconda3/lib/python3.9/site-packages/sklearn/linear_model/_coordinate_descent.py:647: ConvergenceWarning: Objective did not converge. You might want to increase the number of iterations, check the scale of the features or consider increasing regularisation. Duality gap: 7.025e+01, tolerance: 1.508e-02\n",
      "  model = cd_fast.enet_coordinate_descent(\n",
      "/Users/aanvigoel/opt/anaconda3/lib/python3.9/site-packages/sklearn/linear_model/_coordinate_descent.py:647: ConvergenceWarning: Objective did not converge. You might want to increase the number of iterations, check the scale of the features or consider increasing regularisation. Duality gap: 7.222e+01, tolerance: 1.549e-02\n",
      "  model = cd_fast.enet_coordinate_descent(\n",
      "/Users/aanvigoel/opt/anaconda3/lib/python3.9/site-packages/sklearn/linear_model/_coordinate_descent.py:647: ConvergenceWarning: Objective did not converge. You might want to increase the number of iterations, check the scale of the features or consider increasing regularisation. Duality gap: 6.869e+01, tolerance: 1.484e-02\n",
      "  model = cd_fast.enet_coordinate_descent(\n",
      "/Users/aanvigoel/opt/anaconda3/lib/python3.9/site-packages/sklearn/linear_model/_coordinate_descent.py:647: ConvergenceWarning: Objective did not converge. You might want to increase the number of iterations, check the scale of the features or consider increasing regularisation. Duality gap: 7.201e+01, tolerance: 1.537e-02\n",
      "  model = cd_fast.enet_coordinate_descent(\n",
      "/Users/aanvigoel/opt/anaconda3/lib/python3.9/site-packages/sklearn/linear_model/_coordinate_descent.py:647: ConvergenceWarning: Objective did not converge. You might want to increase the number of iterations, check the scale of the features or consider increasing regularisation. Duality gap: 5.734e+01, tolerance: 1.483e-02\n",
      "  model = cd_fast.enet_coordinate_descent(\n",
      "/Users/aanvigoel/opt/anaconda3/lib/python3.9/site-packages/sklearn/linear_model/_coordinate_descent.py:647: ConvergenceWarning: Objective did not converge. You might want to increase the number of iterations, check the scale of the features or consider increasing regularisation. Duality gap: 6.249e+01, tolerance: 1.508e-02\n",
      "  model = cd_fast.enet_coordinate_descent(\n",
      "/Users/aanvigoel/opt/anaconda3/lib/python3.9/site-packages/sklearn/linear_model/_coordinate_descent.py:647: ConvergenceWarning: Objective did not converge. You might want to increase the number of iterations, check the scale of the features or consider increasing regularisation. Duality gap: 6.429e+01, tolerance: 1.549e-02\n",
      "  model = cd_fast.enet_coordinate_descent(\n",
      "/Users/aanvigoel/opt/anaconda3/lib/python3.9/site-packages/sklearn/linear_model/_coordinate_descent.py:647: ConvergenceWarning: Objective did not converge. You might want to increase the number of iterations, check the scale of the features or consider increasing regularisation. Duality gap: 6.040e+01, tolerance: 1.484e-02\n",
      "  model = cd_fast.enet_coordinate_descent(\n",
      "/Users/aanvigoel/opt/anaconda3/lib/python3.9/site-packages/sklearn/linear_model/_coordinate_descent.py:647: ConvergenceWarning: Objective did not converge. You might want to increase the number of iterations, check the scale of the features or consider increasing regularisation. Duality gap: 6.332e+01, tolerance: 1.537e-02\n",
      "  model = cd_fast.enet_coordinate_descent(\n",
      "/Users/aanvigoel/opt/anaconda3/lib/python3.9/site-packages/sklearn/linear_model/_coordinate_descent.py:647: ConvergenceWarning: Objective did not converge. You might want to increase the number of iterations, check the scale of the features or consider increasing regularisation. Duality gap: 1.496e+01, tolerance: 1.483e-02\n",
      "  model = cd_fast.enet_coordinate_descent(\n",
      "/Users/aanvigoel/opt/anaconda3/lib/python3.9/site-packages/sklearn/linear_model/_coordinate_descent.py:647: ConvergenceWarning: Objective did not converge. You might want to increase the number of iterations, check the scale of the features or consider increasing regularisation. Duality gap: 2.469e+01, tolerance: 1.508e-02\n",
      "  model = cd_fast.enet_coordinate_descent(\n"
     ]
    },
    {
     "name": "stderr",
     "output_type": "stream",
     "text": [
      "/Users/aanvigoel/opt/anaconda3/lib/python3.9/site-packages/sklearn/linear_model/_coordinate_descent.py:647: ConvergenceWarning: Objective did not converge. You might want to increase the number of iterations, check the scale of the features or consider increasing regularisation. Duality gap: 1.419e+01, tolerance: 1.549e-02\n",
      "  model = cd_fast.enet_coordinate_descent(\n",
      "/Users/aanvigoel/opt/anaconda3/lib/python3.9/site-packages/sklearn/linear_model/_coordinate_descent.py:647: ConvergenceWarning: Objective did not converge. You might want to increase the number of iterations, check the scale of the features or consider increasing regularisation. Duality gap: 3.328e+00, tolerance: 1.484e-02\n",
      "  model = cd_fast.enet_coordinate_descent(\n",
      "/Users/aanvigoel/opt/anaconda3/lib/python3.9/site-packages/sklearn/linear_model/_coordinate_descent.py:647: ConvergenceWarning: Objective did not converge. You might want to increase the number of iterations, check the scale of the features or consider increasing regularisation. Duality gap: 6.160e+00, tolerance: 1.537e-02\n",
      "  model = cd_fast.enet_coordinate_descent(\n"
     ]
    }
   ],
   "source": [
    "alphas = [0.0001,0.005,0.001,0.05,0.01,0.1,1,5,10]\n",
    "\n",
    "lasso_model_poly=regularize_model(Lasso(), X_poly_train, y_train, cv=kfold, alpha= alphas)\n",
    "ridge_model_poly=regularize_model(Ridge(), X_poly_train, y_train, cv=kfold, alpha= alphas)\n",
    "elasticnet_model_poly=regularize_model(ElasticNet(), X_poly_train, y_train, cv=kfold, alpha= alphas)\n"
   ]
  },
  {
   "cell_type": "code",
   "execution_count": 52,
   "id": "1943361d",
   "metadata": {},
   "outputs": [
    {
     "name": "stdout",
     "output_type": "stream",
     "text": [
      "Lasso Regression MSE: 0.060242974266654904\n",
      "Lasso Regression R2_score: 0.034360403463862266 \n",
      "\n",
      "Ridge Regression MSE: 0.059988397039276546\n",
      "Ridge Regression R2_score: 0.03844104281020011 \n",
      "\n",
      "ElasticNet Regression MSE: 0.06033154558261581\n",
      "ElasticNet Regression R2_score: 0.03294068654499649\n"
     ]
    }
   ],
   "source": [
    "y_pred = lasso_model_poly.predict(X_poly_test)\n",
    "test_score = r2_score(y_test, y_pred)\n",
    "print(\"Lasso Regression MSE:\", mean_squared_error(y_test, y_pred))\n",
    "print(\"Lasso Regression R2_score:\", test_score,\"\\n\")\n",
    "r2_model_scores.append(['Polynomial + Lasso Model', test_score])\n",
    "\n",
    "y_pred = ridge_model_poly.predict(X_poly_test)\n",
    "test_score = r2_score(y_test, y_pred)\n",
    "print(\"Ridge Regression MSE:\", mean_squared_error(y_test, y_pred))\n",
    "print(\"Ridge Regression R2_score:\", test_score,\"\\n\")\n",
    "r2_model_scores.append(['Polynomial + Ridge Model', test_score])\n",
    "\n",
    "y_pred = elasticnet_model_poly.predict(X_poly_test)\n",
    "test_score = r2_score(y_test, y_pred)\n",
    "print(\"ElasticNet Regression MSE:\", mean_squared_error(y_test, y_pred))\n",
    "print(\"ElasticNet Regression R2_score:\", test_score)\n",
    "r2_model_scores.append(['Polynomial + Elastic Net Model', test_score])\n",
    "\n"
   ]
  },
  {
   "cell_type": "code",
   "execution_count": 53,
   "id": "b0405bad",
   "metadata": {},
   "outputs": [
    {
     "data": {
      "text/html": [
       "<div>\n",
       "<style scoped>\n",
       "    .dataframe tbody tr th:only-of-type {\n",
       "        vertical-align: middle;\n",
       "    }\n",
       "\n",
       "    .dataframe tbody tr th {\n",
       "        vertical-align: top;\n",
       "    }\n",
       "\n",
       "    .dataframe thead th {\n",
       "        text-align: right;\n",
       "    }\n",
       "</style>\n",
       "<table border=\"1\" class=\"dataframe\">\n",
       "  <thead>\n",
       "    <tr style=\"text-align: right;\">\n",
       "      <th></th>\n",
       "      <th>Model</th>\n",
       "      <th>Test_Score</th>\n",
       "    </tr>\n",
       "  </thead>\n",
       "  <tbody>\n",
       "    <tr>\n",
       "      <th>1</th>\n",
       "      <td>Lasso Model</td>\n",
       "      <td>0.026562</td>\n",
       "    </tr>\n",
       "    <tr>\n",
       "      <th>2</th>\n",
       "      <td>Ridge Model</td>\n",
       "      <td>0.025944</td>\n",
       "    </tr>\n",
       "    <tr>\n",
       "      <th>3</th>\n",
       "      <td>Elastic Net Model</td>\n",
       "      <td>0.026485</td>\n",
       "    </tr>\n",
       "    <tr>\n",
       "      <th>4</th>\n",
       "      <td>Polynomial + Lasso Model</td>\n",
       "      <td>0.03436</td>\n",
       "    </tr>\n",
       "    <tr>\n",
       "      <th>5</th>\n",
       "      <td>Polynomial + Ridge Model</td>\n",
       "      <td>0.038441</td>\n",
       "    </tr>\n",
       "    <tr>\n",
       "      <th>6</th>\n",
       "      <td>Polynomial + Elastic Net Model</td>\n",
       "      <td>0.032941</td>\n",
       "    </tr>\n",
       "  </tbody>\n",
       "</table>\n",
       "</div>"
      ],
      "text/plain": [
       "                            Model Test_Score\n",
       "1                     Lasso Model   0.026562\n",
       "2                     Ridge Model   0.025944\n",
       "3               Elastic Net Model   0.026485\n",
       "4        Polynomial + Lasso Model    0.03436\n",
       "5        Polynomial + Ridge Model   0.038441\n",
       "6  Polynomial + Elastic Net Model   0.032941"
      ]
     },
     "execution_count": 53,
     "metadata": {},
     "output_type": "execute_result"
    }
   ],
   "source": [
    "#Comparing R2 values:\n",
    "\n",
    "pd.DataFrame(r2_model_scores, columns=r2_model_scores[0]).drop(0)\n"
   ]
  },
  {
   "cell_type": "code",
   "execution_count": 54,
   "id": "26118e6e",
   "metadata": {},
   "outputs": [
    {
     "data": {
      "text/plain": [
       "(-1.0, 1.0)"
      ]
     },
     "execution_count": 54,
     "metadata": {},
     "output_type": "execute_result"
    },
    {
     "data": {
      "image/png": "[encoded data removed]",
      "text/plain": [
       "<Figure size 432x288 with 1 Axes>"
      ]
     },
     "metadata": {
      "needs_background": "light"
     },
     "output_type": "display_data"
    }
   ],
   "source": [
    "y_final_pred= ridge_model_poly.predict(X_poly_test)\n",
    "\n",
    "final_residuals = y_test - y_final_pred\n",
    "\n",
    "plt.scatter(y_final_pred, final_residuals, alpha=0.5)\n",
    "plt.plot([0,1],[0,0])\n",
    "plt.title('Residuals')\n",
    "plt.xlabel('Y Predicted')\n",
    "plt.ylabel('Residuals')\n",
    "plt.ylim(-1,1)\n"
   ]
  },
  {
   "cell_type": "code",
   "execution_count": 55,
   "id": "e192bcda",
   "metadata": {},
   "outputs": [
    {
     "data": {
      "image/png": "[encoded data removed]",
      "text/plain": [
       "<Figure size 1296x432 with 2 Axes>"
      ]
     },
     "metadata": {
      "needs_background": "light"
     },
     "output_type": "display_data"
    }
   ],
   "source": [
    "fig , ax = plt.subplots(1,2, figsize=(18,6))\n",
    "ax1 = sns.histplot(final_residuals, ax=ax[0])\n",
    "ax1.set_xlabel('Residuals')\n",
    "ax2 = stats.probplot(final_residuals, dist='norm', plot=plt)\n"
   ]
  },
  {
   "cell_type": "code",
   "execution_count": 56,
   "id": "bd3a14f5",
   "metadata": {},
   "outputs": [
    {
     "name": "stdout",
     "output_type": "stream",
     "text": [
      "Evaluating Performance of Final Model:\n",
      "R2 score:  0.04\n",
      "Mean absolute error: 0.21\n",
      "Mean squared error: 0.06\n",
      "Root mean squared error: 0.24 \n",
      "\n"
     ]
    }
   ],
   "source": [
    "print('Evaluating Performance of Final Model:')\n",
    "print(f'R2 score: {r2_score(y_test, y_final_pred): .2f}')\n",
    "print(f'Mean absolute error: {mean_absolute_error(y_test, y_final_pred):.2f}')\n",
    "print(f'Mean squared error: {mean_squared_error(y_test, y_final_pred):.2f}')\n",
    "print(f'Root mean squared error: {np.sqrt(mean_squared_error(y_test, y_final_pred)):.2f} \\n')\n"
   ]
  }
 ],
 "metadata": {
  "kernelspec": {
   "display_name": "Python 3 (regression)",
   "language": "python",
   "name": "regression"
  },
  "language_info": {
   "codemirror_mode": {
    "name": "ipython",
    "version": 3
   },
   "file_extension": ".py",
   "mimetype": "text/x-python",
   "name": "python",
   "nbconvert_exporter": "python",
   "pygments_lexer": "ipython3",
   "version": "3.9.12"
  }
 },
 "nbformat": 4,
 "nbformat_minor": 5
}
